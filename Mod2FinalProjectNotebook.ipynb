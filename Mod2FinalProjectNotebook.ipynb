{
 "cells": [
  {
   "cell_type": "markdown",
   "metadata": {},
   "source": [
    "# Module 2 - Final Project - SQL and Statistical Significance"
   ]
  },
  {
   "cell_type": "markdown",
   "metadata": {},
   "source": [
    "## Importing Required Libraries and Querying SQL DB"
   ]
  },
  {
   "cell_type": "code",
   "execution_count": 25,
   "metadata": {},
   "outputs": [],
   "source": [
    "import sqlite3 as sql\n",
    "import pandas as pd\n",
    "import numpy as np\n",
    "import matplotlib.pyplot as plt\n",
    "import seaborn as sns\n",
    "import statsmodels.api as sm\n",
    "from sklearn import preprocessing\n",
    "from sklearn.preprocessing import MinMaxScaler\n",
    "from sklearn.linear_model import Lasso, Ridge, LinearRegression\n",
    "from sklearn.model_selection import train_test_split, cross_val_score, KFold\n",
    "from statsmodels.formula.api import ols\n",
    "from scipy import stats\n",
    "from sklearn import linear_model as lm\n",
    "from statsmodels.graphics.factorplots import interaction_plot\n",
    "from statsmodels.stats.multicomp import pairwise_tukeyhsd, MultiComparison\n",
    "import warnings \n",
    "from IPython.core.interactiveshell import InteractiveShell\n",
    "\n",
    "conn = sql.connect('Northwind_small.sqlite')\n",
    "cur = conn.cursor()\n",
    "table_names = list(cur.execute('''SELECT name FROM sqlite_master WHERE TYPE = 'table'\n",
    "'''))"
   ]
  },
  {
   "cell_type": "code",
   "execution_count": 26,
   "metadata": {},
   "outputs": [],
   "source": [
    "warnings.simplefilter('ignore')\n",
    "InteractiveShell.ast_node_interactivity = \"all\""
   ]
  },
  {
   "cell_type": "code",
   "execution_count": 27,
   "metadata": {},
   "outputs": [
    {
     "name": "stdout",
     "output_type": "stream",
     "text": [
      "[('Employee',), ('Category',), ('Customer',), ('Shipper',), ('Supplier',), ('Order',), ('Product',), ('OrderDetail',), ('CustomerCustomerDemo',), ('CustomerDemographic',), ('Region',), ('Territory',), ('EmployeeTerritory',)]\n"
     ]
    }
   ],
   "source": [
    "print(table_names)"
   ]
  },
  {
   "cell_type": "code",
   "execution_count": 28,
   "metadata": {},
   "outputs": [],
   "source": [
    "sql_comm = []\n",
    "for i in range(0, len(table_names)):\n",
    "    s = \"SELECT * FROM \" + table_names[i][0]\n",
    "    sql_comm.append(s)\n",
    "\n",
    "# Reading in SQL Tables into Pandas Dataframes\n",
    "employees = pd.read_sql_query(sql_comm[0], conn)\n",
    "categories = pd.read_sql_query(sql_comm[1], conn)\n",
    "customers = pd.read_sql_query(sql_comm[2], conn)\n",
    "shippers = pd.read_sql_query(sql_comm[3], conn)\n",
    "\n",
    "suppliers = pd.read_sql_query(sql_comm[4], conn)\n",
    "products = pd.read_sql_query(sql_comm[6], conn)\n",
    "order_details = pd.read_sql_query(sql_comm[7], conn)\n",
    "cust_cust_demos = pd.read_sql_query(sql_comm[8], conn)\n",
    "cust_demos = pd.read_sql_query(sql_comm[9], conn)\n",
    "regions = pd.read_sql_query(sql_comm[10], conn)\n",
    "territories = pd.read_sql_query(sql_comm[11], conn)\n",
    "emp_territories = pd.read_sql_query(sql_comm[12], conn)\n",
    "orders = pd.read_sql_query('''SELECT * FROM [Order]''', conn)"
   ]
  },
  {
   "cell_type": "markdown",
   "metadata": {},
   "source": [
    "# Product Pricing and Customer Incentives"
   ]
  },
  {
   "cell_type": "markdown",
   "metadata": {},
   "source": [
    "## Question 1\n",
    "__Do discounts have a statistically significant effect on the number of products customers order? If so, at what level(s) of discount?__"
   ]
  },
  {
   "cell_type": "markdown",
   "metadata": {},
   "source": [
    "$H_{o}$: The average quantity of product ordered is the same for normally priced orders and those with a discount"
   ]
  },
  {
   "cell_type": "markdown",
   "metadata": {},
   "source": [
    "$H_{a}$: The average quantity of product ordered is not the same for normally prices orders and those with a discount, the quantity is either higher or lower"
   ]
  },
  {
   "cell_type": "markdown",
   "metadata": {},
   "source": [
    "__Control Group__: Orders without any discounts applied, full price products sold\n",
    "<br>\n",
    "__Experimental Group__: Orders with discounts applied, products sold at lower than retail price"
   ]
  },
  {
   "cell_type": "markdown",
   "metadata": {},
   "source": [
    "### Data Wrangling\n",
    "Table: Order Details"
   ]
  },
  {
   "cell_type": "code",
   "execution_count": 30,
   "metadata": {},
   "outputs": [
    {
     "name": "stdout",
     "output_type": "stream",
     "text": [
      "<class 'pandas.core.frame.DataFrame'>\n",
      "RangeIndex: 2155 entries, 0 to 2154\n",
      "Data columns (total 2 columns):\n",
      "Quantity    2155 non-null int64\n",
      "Discount    2155 non-null float64\n",
      "dtypes: float64(1), int64(1)\n",
      "memory usage: 33.8 KB\n"
     ]
    }
   ],
   "source": [
    "order_details[['Quantity', 'Discount']].info()"
   ]
  },
  {
   "cell_type": "markdown",
   "metadata": {},
   "source": [
    "### Question 1a\n",
    "<br>\n",
    "Our primary question to address is whether discounting of products will impact the amount of product that Company X is selling. This is an important question to ask for sales, marketing, and product management teams in order for them to optimize their messaging, customer loyalty, and most importantly...the bottom line. If we are able to answer this question and determine at what levels of discounting results in the greatest uptick of customer orders/product deliveries, we can generate a larger profit and continue to grow our business."
   ]
  },
  {
   "cell_type": "markdown",
   "metadata": {},
   "source": [
    "__How:__ test our hypotheses with a two-tail test accounting for either an increase or decrease in products ordered as a result of discounts applied to said products.\n",
    "<br>\n",
    "__Table:__ Order Details\n",
    "<br>\n",
    "__Features:__ Quantity, Discount"
   ]
  },
  {
   "cell_type": "markdown",
   "metadata": {},
   "source": [
    "__Control Group__: Orders without discount\n",
    "<br>\n",
    "__Experimental Group:__ Discounted product orders"
   ]
  },
  {
   "cell_type": "code",
   "execution_count": 259,
   "metadata": {},
   "outputs": [
    {
     "data": {
      "text/plain": [
       "0.00    1317\n",
       "0.05     185\n",
       "0.10     173\n",
       "0.20     161\n",
       "0.15     157\n",
       "Name: Discount, dtype: int64"
      ]
     },
     "execution_count": 259,
     "metadata": {},
     "output_type": "execute_result"
    }
   ],
   "source": [
    "order_details.Discount.value_counts().head()"
   ]
  },
  {
   "cell_type": "code",
   "execution_count": 33,
   "metadata": {},
   "outputs": [],
   "source": [
    "order_details['Discount_bin'] = order_details['Discount'].apply(lambda x: 1 if x > 0 else 0)"
   ]
  },
  {
   "cell_type": "code",
   "execution_count": 135,
   "metadata": {},
   "outputs": [
    {
     "data": {
      "text/plain": [
       "<BarContainer object of 2 artists>"
      ]
     },
     "execution_count": 135,
     "metadata": {},
     "output_type": "execute_result"
    },
    {
     "data": {
      "text/plain": [
       "Text(1, 10, '21.72')"
      ]
     },
     "execution_count": 135,
     "metadata": {},
     "output_type": "execute_result"
    },
    {
     "data": {
      "text/plain": [
       "Text(0, 10, '27.11')"
      ]
     },
     "execution_count": 135,
     "metadata": {},
     "output_type": "execute_result"
    },
    {
     "data": {
      "text/plain": [
       "Text(0, 0.5, 'Average Quantity')"
      ]
     },
     "execution_count": 135,
     "metadata": {},
     "output_type": "execute_result"
    },
    {
     "data": {
      "text/plain": [
       "Text(0.5, 1.0, 'Average Quantity of Product Per Order: Discount vs No Discount')"
      ]
     },
     "execution_count": 135,
     "metadata": {},
     "output_type": "execute_result"
    },
    {
     "data": {
      "image/png": "[encoded data removed]",
      "text/plain": [
       "<Figure size 432x288 with 1 Axes>"
      ]
     },
     "metadata": {
      "needs_background": "light"
     },
     "output_type": "display_data"
    }
   ],
   "source": [
    "X = ['Discount', 'No discount']\n",
    "y = [order_details['Quantity'][order_details['Discount_bin'] == 1].mean(),\n",
    "order_details['Quantity'][order_details['Discount_bin'] == 0].mean()]\n",
    "plt.bar(X, y, color=('red', 'blue'))\n",
    "plt.text(s=round(y[1],2), x=1, y=10, color='w', horizontalalignment='center', size=20, \n",
    "         bbox=dict(facecolor='black', alpha=0.5))\n",
    "plt.text(s=round(y[0],2), x=0, y=10, color='w', horizontalalignment='center', size=20, \n",
    "         bbox=dict(facecolor='black', alpha=0.5))\n",
    "plt.ylabel('Average Quantity', fontsize=12, fontweight='bold')\n",
    "plt.title('Average Quantity of Product Per Order: Discount vs No Discount', fontsize=15, fontweight='bold')"
   ]
  },
  {
   "cell_type": "code",
   "execution_count": 35,
   "metadata": {},
   "outputs": [],
   "source": [
    "discount_control_group = order_details[order_details.Discount_bin == 0].Quantity\n",
    "discount_experimental_group = order_details[order_details.Discount_bin == 1].Quantity"
   ]
  },
  {
   "cell_type": "markdown",
   "metadata": {},
   "source": [
    "__Variance__"
   ]
  },
  {
   "cell_type": "code",
   "execution_count": 36,
   "metadata": {},
   "outputs": [
    {
     "name": "stdout",
     "output_type": "stream",
     "text": [
      "Control Group Variance: 306.51232768588454\n",
      "Experimental Group Variance: 431.45268788690146\n",
      "Difference 124.94036020101692\n"
     ]
    }
   ],
   "source": [
    "print('Control Group Variance:', discount_control_group.var())\n",
    "print('Experimental Group Variance:', discount_experimental_group.var())\n",
    "print('Difference', abs(discount_control_group.var() - discount_experimental_group.var()))"
   ]
  },
  {
   "cell_type": "code",
   "execution_count": 37,
   "metadata": {},
   "outputs": [
    {
     "data": {
      "text/plain": [
       "<Figure size 864x576 with 0 Axes>"
      ]
     },
     "execution_count": 37,
     "metadata": {},
     "output_type": "execute_result"
    },
    {
     "data": {
      "text/plain": [
       "<matplotlib.axes._subplots.AxesSubplot at 0x1c1b29c4e0>"
      ]
     },
     "execution_count": 37,
     "metadata": {},
     "output_type": "execute_result"
    },
    {
     "data": {
      "text/plain": [
       "<matplotlib.axes._subplots.AxesSubplot at 0x1c1b29c4e0>"
      ]
     },
     "execution_count": 37,
     "metadata": {},
     "output_type": "execute_result"
    },
    {
     "data": {
      "text/plain": [
       "Text(0.5, 1.0, 'Quantity Distribution of Products Sold')"
      ]
     },
     "execution_count": 37,
     "metadata": {},
     "output_type": "execute_result"
    },
    {
     "data": {
      "text/plain": [
       "Text(0.5, 0, 'Quantity of Product')"
      ]
     },
     "execution_count": 37,
     "metadata": {},
     "output_type": "execute_result"
    },
    {
     "data": {
      "text/plain": [
       "<matplotlib.legend.Legend at 0x1c1b2269b0>"
      ]
     },
     "execution_count": 37,
     "metadata": {},
     "output_type": "execute_result"
    },
    {
     "data": {
      "image/png": "[encoded data removed]",
      "text/plain": [
       "<Figure size 864x576 with 1 Axes>"
      ]
     },
     "metadata": {
      "needs_background": "light"
     },
     "output_type": "display_data"
    }
   ],
   "source": [
    "plt.figure(figsize=(12,8))\n",
    "sns.distplot(discount_control_group, label='Control Group - No Discount')\n",
    "sns.distplot(discount_experimental_group, label='Experimental Group - Discount')\n",
    "plt.title('Quantity Distribution of Products Sold', fontsize=16, fontweight='bold')\n",
    "plt.xlabel('Quantity of Product', fontsize=16, fontweight='bold')\n",
    "plt.legend(fontsize=16)"
   ]
  },
  {
   "cell_type": "markdown",
   "metadata": {},
   "source": [
    "__Distribution Analysis__"
   ]
  },
  {
   "cell_type": "markdown",
   "metadata": {},
   "source": [
    "The above distribution plot shows right skewedness for both the control and experimental group (no discount and discounted product orders). This data differs from a Gaussian distribution, so we will need to decide on an approach to remediate. "
   ]
  },
  {
   "cell_type": "markdown",
   "metadata": {},
   "source": [
    "### Normality Test - Two-tailed - Statsmodels Normal Test"
   ]
  },
  {
   "cell_type": "code",
   "execution_count": 38,
   "metadata": {},
   "outputs": [
    {
     "name": "stdout",
     "output_type": "stream",
     "text": [
      "Normality of Control Group NormaltestResult(statistic=544.5770045551502, pvalue=5.579637380545965e-119)\n",
      "Normality of Experimental Group NormaltestResult(statistic=261.528012299789, pvalue=1.6214878452829618e-57)\n"
     ]
    }
   ],
   "source": [
    "print('Normality of Control Group', stats.normaltest(discount_control_group))\n",
    "print('Normality of Experimental Group', stats.normaltest(discount_experimental_group))"
   ]
  },
  {
   "cell_type": "markdown",
   "metadata": {},
   "source": [
    "The results of the normalality tests above fall in line with the distribution plot above. Very small p-values provide additional evidence that the distributions are not normal, thus we cannot fulfill that assumption to move forward."
   ]
  },
  {
   "cell_type": "markdown",
   "metadata": {},
   "source": [
    "### Effect Size"
   ]
  },
  {
   "cell_type": "markdown",
   "metadata": {},
   "source": [
    "We saw above in the distributions that there is a difference between the two means of the control and experimental groups. Let's calculate that difference to determine the effect size of this data.\n",
    "\n",
    "__Cohen's D - determining effect size__\n",
    "\n",
    "- -1.0: Perfect negative relationship\n",
    "- -0.7: Strong negative relationship\n",
    "- -0.5: Moderate negative relationship\n",
    "- -0.3: Weak negative relationship\n",
    "- 0.0: No relationship\n",
    "- 0.3: Weak positive relationship\n",
    "- 0.5: Moderate positive relationship\n",
    "- 0.7: Strong positive relationship\n",
    "- 1.0: Perfect positive relationship"
   ]
  },
  {
   "cell_type": "code",
   "execution_count": 39,
   "metadata": {},
   "outputs": [
    {
     "name": "stdout",
     "output_type": "stream",
     "text": [
      "Cohen's d: 0.008974519957357523\n"
     ]
    }
   ],
   "source": [
    "def Cohens_d(group1, group2):\n",
    "    \n",
    "    diff = group1.mean() - group2.mean()\n",
    "    n1, n2 = len(group1), len(group2)\n",
    "    var1 = group1.var()\n",
    "    var2 = group2.var()\n",
    "    \n",
    "    pooled_var = (n1 * var1) + (n2 * var2) / (n1 + n2)\n",
    "    \n",
    "    d = diff / np.sqrt(pooled_var)\n",
    "    return d\n",
    "\n",
    "print(\"Cohen's d:\", Cohens_d(np.array(discount_experimental_group), np.array(discount_control_group)))"
   ]
  },
  {
   "cell_type": "markdown",
   "metadata": {},
   "source": [
    "This small effect size of 0.008 indicates very little difference between the means of the control and experimentals groups."
   ]
  },
  {
   "cell_type": "markdown",
   "metadata": {},
   "source": [
    "Now we have a t-value and variance value that we can use to calculate a p-value.\n",
    "\n",
    "P-value: The probability of obtaining a test statistic at least as extreme as the one we observed if the null hypothesis is true"
   ]
  },
  {
   "cell_type": "markdown",
   "metadata": {},
   "source": [
    "#### Create a new Sample Distribution"
   ]
  },
  {
   "cell_type": "code",
   "execution_count": 42,
   "metadata": {},
   "outputs": [],
   "source": [
    "# create a random sample list\n",
    "def create_sample(df, n):\n",
    "    sample = []\n",
    "    while len(sample) < n:\n",
    "        x = np.random.choice(df)\n",
    "        sample.append(x)\n",
    "    return sample\n",
    "# use random sample list to create a sample distribution in a dataframe\n",
    "def create_sample_distribution(df, dist_size=1000, n=500):\n",
    "    sample_dist = []\n",
    "    while len(sample_dist) < dist_size:\n",
    "        sample = create_sample(df, n)\n",
    "        sample_mean = sum(sample)/len(sample)\n",
    "        sample_dist.append(sample_mean)\n",
    "    return sample_dist"
   ]
  },
  {
   "cell_type": "code",
   "execution_count": 43,
   "metadata": {},
   "outputs": [],
   "source": [
    "control_sample = create_sample_distribution(discount_control_group)\n",
    "experimental_sample = create_sample_distribution(discount_experimental_group)"
   ]
  },
  {
   "cell_type": "code",
   "execution_count": 45,
   "metadata": {
    "scrolled": false
   },
   "outputs": [
    {
     "data": {
      "text/plain": [
       "<Figure size 864x576 with 0 Axes>"
      ]
     },
     "execution_count": 45,
     "metadata": {},
     "output_type": "execute_result"
    },
    {
     "data": {
      "text/plain": [
       "<matplotlib.axes._subplots.AxesSubplot at 0x1c1b209e80>"
      ]
     },
     "execution_count": 45,
     "metadata": {},
     "output_type": "execute_result"
    },
    {
     "data": {
      "text/plain": [
       "<matplotlib.axes._subplots.AxesSubplot at 0x1c1b209e80>"
      ]
     },
     "execution_count": 45,
     "metadata": {},
     "output_type": "execute_result"
    },
    {
     "data": {
      "text/plain": [
       "Text(0.5, 1.0, 'Quantity Sample Distribution of Products Sold')"
      ]
     },
     "execution_count": 45,
     "metadata": {},
     "output_type": "execute_result"
    },
    {
     "data": {
      "text/plain": [
       "Text(0.5, 0, 'Quantity of Product')"
      ]
     },
     "execution_count": 45,
     "metadata": {},
     "output_type": "execute_result"
    },
    {
     "data": {
      "text/plain": [
       "<matplotlib.legend.Legend at 0x1c1c285780>"
      ]
     },
     "execution_count": 45,
     "metadata": {},
     "output_type": "execute_result"
    },
    {
     "data": {
      "image/png": "[encoded data removed]",
      "text/plain": [
       "<Figure size 864x576 with 1 Axes>"
      ]
     },
     "metadata": {
      "needs_background": "light"
     },
     "output_type": "display_data"
    }
   ],
   "source": [
    "plt.figure(figsize=(12,8))\n",
    "sns.distplot(control_sample, label='Control Sample')\n",
    "sns.distplot(experimental_sample, label='Experimental Sample')\n",
    "plt.title('Quantity Sample Distribution of Products Sold', fontsize=16, fontweight='bold')\n",
    "plt.xlabel('Quantity of Product', fontsize=16, fontweight='bold')\n",
    "plt.legend(fontsize=16)"
   ]
  },
  {
   "cell_type": "markdown",
   "metadata": {},
   "source": [
    "__Distribution Analysis__\n",
    "We now see distributions for the control and experimental samples resembling normal distributions. Now there is also a significant difference between the two means of the group but similar levels of variance."
   ]
  },
  {
   "cell_type": "markdown",
   "metadata": {},
   "source": [
    "__Cohen's D Effect Size__"
   ]
  },
  {
   "cell_type": "code",
   "execution_count": 258,
   "metadata": {},
   "outputs": [
    {
     "name": "stdout",
     "output_type": "stream",
     "text": [
      "Cohen's d: -0.16623858485587895\n"
     ]
    }
   ],
   "source": [
    "print(\"Cohen's d:\", Cohens_d(np.array(control_sample), np.array(experimental_sample)))"
   ]
  },
  {
   "cell_type": "markdown",
   "metadata": {},
   "source": [
    "__Sample Variance__"
   ]
  },
  {
   "cell_type": "code",
   "execution_count": 44,
   "metadata": {},
   "outputs": [
    {
     "name": "stdout",
     "output_type": "stream",
     "text": [
      "Control Group Variance: 0.618049010224\n",
      "Experimental Group Variance: 0.824415394096\n",
      "Difference 0.2063663838719999\n"
     ]
    }
   ],
   "source": [
    "print('Control Group Variance:', np.array(control_sample).var())\n",
    "print('Experimental Group Variance:', np.array(experimental_sample).var())\n",
    "print('Difference', abs(np.array(control_sample).var() - np.array(experimental_sample).var()))"
   ]
  },
  {
   "cell_type": "code",
   "execution_count": 176,
   "metadata": {},
   "outputs": [
    {
     "data": {
      "text/plain": [
       "0.0"
      ]
     },
     "execution_count": 176,
     "metadata": {},
     "output_type": "execute_result"
    }
   ],
   "source": [
    "stats.ttest_ind(control_sample, experimental_sample)[1]"
   ]
  },
  {
   "cell_type": "markdown",
   "metadata": {},
   "source": [
    "## Conclusion\n",
    "<br>Based on the above p-value, we can reject the null hypothesis, the average quantity of product ordered is the same for normally priced orders and those with a discount. Therefore, we can accept the alternative hypothesis: the average quantity of product ordered is not the same for normally prices orders and those with a discount, the quantity is either higher or lower."
   ]
  },
  {
   "cell_type": "markdown",
   "metadata": {},
   "source": [
    "---------------------------------------------------------------------------------------------------------------------"
   ]
  },
  {
   "cell_type": "markdown",
   "metadata": {},
   "source": [
    "### Question 1b: Are some discount levels more effective at increasing the quantity of products sold than others?"
   ]
  },
  {
   "cell_type": "markdown",
   "metadata": {},
   "source": [
    "Ho: There is no difference in the quantity of products sold between the various discount levels\n",
    "\n",
    "Ha: Certain discount levels either increase or decrease the number of products sold."
   ]
  },
  {
   "cell_type": "markdown",
   "metadata": {},
   "source": [
    "__How:__ test our hypotheses with a two-tail test accounting for either an increase or decrease in products ordered as a result of discounts applied to said products.\n",
    "<br>\n",
    "__Table:__ Order Details\n",
    "<br>\n",
    "__Features:__ Quantity, Discount"
   ]
  },
  {
   "cell_type": "code",
   "execution_count": 55,
   "metadata": {},
   "outputs": [
    {
     "data": {
      "text/html": [
       "<div>\n",
       "<style scoped>\n",
       "    .dataframe tbody tr th:only-of-type {\n",
       "        vertical-align: middle;\n",
       "    }\n",
       "\n",
       "    .dataframe tbody tr th {\n",
       "        vertical-align: top;\n",
       "    }\n",
       "\n",
       "    .dataframe thead th {\n",
       "        text-align: right;\n",
       "    }\n",
       "</style>\n",
       "<table border=\"1\" class=\"dataframe\">\n",
       "  <thead>\n",
       "    <tr style=\"text-align: right;\">\n",
       "      <th></th>\n",
       "      <th>Discount</th>\n",
       "      <th>Quantity</th>\n",
       "    </tr>\n",
       "  </thead>\n",
       "  <tbody>\n",
       "    <tr>\n",
       "      <th>0</th>\n",
       "      <td>0.00</td>\n",
       "      <td>1317</td>\n",
       "    </tr>\n",
       "    <tr>\n",
       "      <th>1</th>\n",
       "      <td>0.05</td>\n",
       "      <td>185</td>\n",
       "    </tr>\n",
       "    <tr>\n",
       "      <th>2</th>\n",
       "      <td>0.10</td>\n",
       "      <td>173</td>\n",
       "    </tr>\n",
       "    <tr>\n",
       "      <th>3</th>\n",
       "      <td>0.20</td>\n",
       "      <td>161</td>\n",
       "    </tr>\n",
       "    <tr>\n",
       "      <th>4</th>\n",
       "      <td>0.15</td>\n",
       "      <td>157</td>\n",
       "    </tr>\n",
       "  </tbody>\n",
       "</table>\n",
       "</div>"
      ],
      "text/plain": [
       "   Discount  Quantity\n",
       "0      0.00      1317\n",
       "1      0.05       185\n",
       "2      0.10       173\n",
       "3      0.20       161\n",
       "4      0.15       157"
      ]
     },
     "execution_count": 55,
     "metadata": {},
     "output_type": "execute_result"
    }
   ],
   "source": [
    "discount_value_counts = pd.DataFrame(order_details.Discount.value_counts())\n",
    "discount_value_counts = discount_value_counts.reset_index()\n",
    "discount_value_counts.columns = ['Discount', 'Quantity']\n",
    "discount_value_counts.head()"
   ]
  },
  {
   "cell_type": "code",
   "execution_count": 200,
   "metadata": {},
   "outputs": [
    {
     "data": {
      "text/plain": [
       "<matplotlib.axes._subplots.AxesSubplot at 0x1c2098d518>"
      ]
     },
     "execution_count": 200,
     "metadata": {},
     "output_type": "execute_result"
    },
    {
     "data": {
      "text/plain": [
       "Text(0.5, 1.0, 'Product Pricing for All Orders')"
      ]
     },
     "execution_count": 200,
     "metadata": {},
     "output_type": "execute_result"
    },
    {
     "data": {
      "text/plain": [
       "Text(0, 0.5, 'Number of Orders')"
      ]
     },
     "execution_count": 200,
     "metadata": {},
     "output_type": "execute_result"
    },
    {
     "data": {
      "text/plain": [
       "Text(0.5, 0, 'Discount')"
      ]
     },
     "execution_count": 200,
     "metadata": {},
     "output_type": "execute_result"
    },
    {
     "data": {
      "image/png": "[encoded data removed]",
      "text/plain": [
       "<Figure size 432x288 with 1 Axes>"
      ]
     },
     "metadata": {
      "needs_background": "light"
     },
     "output_type": "display_data"
    }
   ],
   "source": [
    "discount_value_counts_sig = discount_value_counts[discount_value_counts.Quantity > 10]\n",
    "sns.barplot(discount_value_counts_sig.Discount, discount_value_counts_sig.Quantity, palette='Blues_d')\n",
    "plt.title('Product Pricing for All Orders', fontweight='bold', fontsize=15)\n",
    "plt.ylabel('Number of Orders', fontweight='bold', fontsize=12)\n",
    "plt.xlabel('Discount', fontweight='bold', fontsize=12)"
   ]
  },
  {
   "cell_type": "code",
   "execution_count": 201,
   "metadata": {},
   "outputs": [
    {
     "data": {
      "text/plain": [
       "<matplotlib.axes._subplots.AxesSubplot at 0x1c2092c7b8>"
      ]
     },
     "execution_count": 201,
     "metadata": {},
     "output_type": "execute_result"
    },
    {
     "data": {
      "text/plain": [
       "Text(0.5, 1.0, 'Orders: Discounted Products')"
      ]
     },
     "execution_count": 201,
     "metadata": {},
     "output_type": "execute_result"
    },
    {
     "data": {
      "text/plain": [
       "Text(0, 0.5, 'Number of Orders')"
      ]
     },
     "execution_count": 201,
     "metadata": {},
     "output_type": "execute_result"
    },
    {
     "data": {
      "text/plain": [
       "Text(0.5, 0, 'Discount')"
      ]
     },
     "execution_count": 201,
     "metadata": {},
     "output_type": "execute_result"
    },
    {
     "data": {
      "image/png": "[encoded data removed]",
      "text/plain": [
       "<Figure size 432x288 with 1 Axes>"
      ]
     },
     "metadata": {
      "needs_background": "light"
     },
     "output_type": "display_data"
    }
   ],
   "source": [
    "discount_value_counts_discount = discount_value_counts_sig[discount_value_counts_sig.Quantity < 1000]\n",
    "sns.barplot(discount_value_counts_discount.Discount, discount_value_counts_discount.Quantity, palette='colorblind')\n",
    "plt.title('Orders: Discounted Products', fontweight='bold', fontsize=15)\n",
    "plt.ylabel('Number of Orders', fontweight='bold', fontsize=12)\n",
    "plt.xlabel('Discount', fontweight='bold', fontsize=12)"
   ]
  },
  {
   "cell_type": "markdown",
   "metadata": {},
   "source": [
    "### Normality Test - Two-tailed - Statsmodels Normal Test"
   ]
  },
  {
   "cell_type": "code",
   "execution_count": 165,
   "metadata": {},
   "outputs": [
    {
     "name": "stdout",
     "output_type": "stream",
     "text": [
      "Normality of 5% discount NormaltestResult(statistic=63.84242740591745, pvalue=1.3702286160643066e-14)\n",
      "Normality of 10% discount NormaltestResult(statistic=98.50271035413209, pvalue=4.0776337983848464e-22)\n",
      "Normality of 15% discount NormaltestResult(statistic=38.52550343019272, pvalue=4.308173885400061e-09)\n",
      "Normality of 20% discount NormaltestResult(statistic=31.398997154435623, pvalue=1.519827852850104e-07)\n",
      "Normality of 25% discount NormaltestResult(statistic=54.44887806745976, pvalue=1.5016763972075847e-12)\n"
     ]
    }
   ],
   "source": [
    "print('Normality of 5% discount', stats.normaltest(order_details[order_details.Discount == 0.05].Quantity))\n",
    "print('Normality of 10% discount', stats.normaltest(order_details[order_details.Discount == 0.1].Quantity))\n",
    "print('Normality of 15% discount', stats.normaltest(order_details[order_details.Discount == 0.15].Quantity))\n",
    "print('Normality of 20% discount', stats.normaltest(order_details[order_details.Discount == 0.20].Quantity))\n",
    "print('Normality of 25% discount', stats.normaltest(order_details[order_details.Discount == 0.25].Quantity))"
   ]
  },
  {
   "cell_type": "code",
   "execution_count": 177,
   "metadata": {},
   "outputs": [
    {
     "name": "stdout",
     "output_type": "stream",
     "text": [
      "Variance of 5% discount 492.2933607520564\n",
      "Variance of 10% discount 448.86792579647795\n",
      "Variance of 15% discount 437.7760901518863\n",
      "Variance of 20% discount 354.67437888198754\n",
      "Variance of 25% discount 404.83732280791105\n"
     ]
    }
   ],
   "source": [
    "print('Variance of 5% discount', (order_details[order_details.Discount == 0.05].Quantity).var())\n",
    "print('Variance of 10% discount', (order_details[order_details.Discount == 0.1].Quantity).var())\n",
    "print('Variance of 15% discount', (order_details[order_details.Discount == 0.15].Quantity).var())\n",
    "print('Variance of 20% discount', (order_details[order_details.Discount == 0.20].Quantity).var())\n",
    "print('Variance of 25% discount', (order_details[order_details.Discount == 0.25].Quantity).var())"
   ]
  },
  {
   "cell_type": "markdown",
   "metadata": {},
   "source": [
    "Based on the p-values above, these data sets do NOT represent normal distributions. They do exhibit similar variance. We will need to move forward with a Welch's T Test, as this specific test does not require the data meets the normality assumption"
   ]
  },
  {
   "cell_type": "markdown",
   "metadata": {},
   "source": [
    "### Welch's T Test"
   ]
  },
  {
   "cell_type": "code",
   "execution_count": 170,
   "metadata": {},
   "outputs": [],
   "source": [
    "def welch_ttest(x, y): \n",
    "    ## Welch-Satterthwaite Degrees of Freedom ##\n",
    "    dof = (x.var()/x.size + y.var()/y.size)**2 / ((x.var()/x.size)**2 / (x.size-1) + (y.var()/y.size)**2 / (y.size-1))\n",
    "   \n",
    "    t, p = stats.ttest_ind(x, y, equal_var = False)\n",
    "    \n",
    "    print(\"\\n\",\n",
    "          f\"Welch's t-test= {t:.4f}\", \"\\n\",\n",
    "          f\"p-value = {p:.4f}\", \"\\n\",\n",
    "          f\"Welch-Satterthwaite Degrees of Freedom= {dof:.4f}\")"
   ]
  },
  {
   "cell_type": "code",
   "execution_count": 173,
   "metadata": {},
   "outputs": [
    {
     "name": "stdout",
     "output_type": "stream",
     "text": [
      "\n",
      " Welch's t-test= -3.7008 \n",
      " p-value = 0.0003 \n",
      " Welch-Satterthwaite Degrees of Freedom= 217.3603\n",
      "\n",
      " Welch's t-test= -2.0944 \n",
      " p-value = 0.0375 \n",
      " Welch-Satterthwaite Degrees of Freedom= 204.0260\n",
      "\n",
      " Welch's t-test= -3.8357 \n",
      " p-value = 0.0002 \n",
      " Welch-Satterthwaite Degrees of Freedom= 182.9771\n",
      "\n",
      " Welch's t-test= -3.4021 \n",
      " p-value = 0.0008 \n",
      " Welch-Satterthwaite Degrees of Freedom= 195.3279\n",
      "\n",
      " Welch's t-test= -3.8573 \n",
      " p-value = 0.0002 \n",
      " Welch-Satterthwaite Degrees of Freedom= 181.1251\n"
     ]
    }
   ],
   "source": [
    "welch_ttest(no_discount.Quantity, discount[discount.Discount == 0.05].Quantity)\n",
    "welch_ttest(no_discount.Quantity, discount[discount.Discount == 0.10].Quantity)\n",
    "welch_ttest(no_discount.Quantity, discount[discount.Discount == 0.15].Quantity)\n",
    "welch_ttest(no_discount.Quantity, discount[discount.Discount == 0.20].Quantity)\n",
    "welch_ttest(no_discount.Quantity, discount[discount.Discount == 0.25].Quantity)"
   ]
  },
  {
   "cell_type": "markdown",
   "metadata": {},
   "source": [
    "__Conclusion__\n",
    "<br>\n",
    "All p-values from the T-Tests conducted for each of the major discount levels compared to non-discount orders are below the alpha threshold 0.05. So at each of these discount levels, we can reject the null hypothesis and assume the alternative hypothesis. These discount levels effect the average quantity of products per order."
   ]
  },
  {
   "cell_type": "markdown",
   "metadata": {},
   "source": [
    "-----------------"
   ]
  },
  {
   "cell_type": "markdown",
   "metadata": {},
   "source": [
    "# Evaluating Our Sales Team"
   ]
  },
  {
   "cell_type": "markdown",
   "metadata": {},
   "source": [
    "## Question 2a\n",
    "__Do the members of our sales team perform equally in terms of the quantity of products sold? How about total sales?__"
   ]
  },
  {
   "cell_type": "markdown",
   "metadata": {},
   "source": [
    "$H_{o}$: All nine members of the sales team have equal performance in terms of selling products, measured by quantity."
   ]
  },
  {
   "cell_type": "markdown",
   "metadata": {},
   "source": [
    "$H_{a}$: Certain members of the sales team perform better and some perform worse than the rest of the team resulting in more or fewer products sold."
   ]
  },
  {
   "cell_type": "markdown",
   "metadata": {},
   "source": [
    "__How:__ Test our hypotheses with a two-tail test accounting for a difference in number of products sold amongst the 9 employees on the sales team.\n",
    "<br>\n",
    "__Tables:__ Employees, Orders, Order Details, Products\n",
    "<br>\n",
    "__Features:__ Quantity, EmployeeId_1, EmployeeId_2, EmployeeId_3, EmployeeId_4, EmployeeId_5, EmployeeId_6, EmployeeId_7, EmployeeId_8, EmployeeId_9"
   ]
  },
  {
   "cell_type": "markdown",
   "metadata": {},
   "source": [
    "### Data Wrangling\n",
    "Consolidating data from Employees, Orders, Order Details, and Products tables"
   ]
  },
  {
   "cell_type": "markdown",
   "metadata": {},
   "source": [
    "Altering column names to match primary keys for related tables"
   ]
  },
  {
   "cell_type": "code",
   "execution_count": 61,
   "metadata": {},
   "outputs": [],
   "source": [
    "employees.columns = ['EmployeeId', 'LastName', 'FirstName', 'Title', 'TitleOfCourtesy', 'BirthDate',\n",
    "       'HireDate', 'Address', 'City', 'Region', 'PostalCode', 'Country',\n",
    "       'HomePhone', 'Extension', 'Photo', 'Notes', 'ReportsTo', 'PhotoPath']"
   ]
  },
  {
   "cell_type": "code",
   "execution_count": 62,
   "metadata": {},
   "outputs": [],
   "source": [
    "orders.columns = ['OrderId', 'CustomerId', 'EmployeeId', 'OrderDate', 'RequiredDate',\n",
    "       'ShippedDate', 'ShipVia', 'Freight', 'ShipName', 'ShipAddress',\n",
    "       'ShipCity', 'ShipRegion', 'ShipPostalCode', 'ShipCountry']"
   ]
  },
  {
   "cell_type": "code",
   "execution_count": 63,
   "metadata": {},
   "outputs": [],
   "source": [
    "products.columns = ['ProductId', 'ProductName', 'SupplierId', 'CategoryId', 'QuantityPerUnit',\n",
    "       'UnitPrice', 'UnitsInStock', 'UnitsOnOrder', 'ReorderLevel',\n",
    "       'Discontinued']"
   ]
  },
  {
   "cell_type": "markdown",
   "metadata": {},
   "source": [
    "Merge Employees, Orders, Order Details, and Products"
   ]
  },
  {
   "cell_type": "code",
   "execution_count": 64,
   "metadata": {},
   "outputs": [],
   "source": [
    "employees_orders = pd.merge(employees,\n",
    "                           orders,\n",
    "                           on='EmployeeId')\n",
    "employees_orders_order_details = pd.merge(employees_orders,\n",
    "                                         order_details,\n",
    "                                         on='OrderId')\n",
    "employees_orders_order_details_products = pd.merge(employees_orders_order_details,\n",
    "                                                  products,\n",
    "                                                  on=['ProductId', 'UnitPrice'])"
   ]
  },
  {
   "cell_type": "markdown",
   "metadata": {},
   "source": [
    "Calculate Total Sale for all orders by multiplying the unit price by quantity sold and subtracting the % discount. Then create a new feature Total_Sale to capture that value for each order."
   ]
  },
  {
   "cell_type": "code",
   "execution_count": 65,
   "metadata": {},
   "outputs": [],
   "source": [
    "employees_orders_order_details_products['Total_Sale'] = (employees_orders_order_details_products.UnitPrice \n",
    "* employees_orders_order_details_products.Quantity * (1-employees_orders_order_details_products.Discount))"
   ]
  },
  {
   "cell_type": "code",
   "execution_count": 212,
   "metadata": {},
   "outputs": [
    {
     "data": {
      "text/plain": [
       "Index(['EmployeeId', 'LastName', 'FirstName', 'Title', 'TitleOfCourtesy',\n",
       "       'BirthDate', 'HireDate', 'Address', 'City', 'Region', 'PostalCode',\n",
       "       'Country', 'HomePhone', 'Extension', 'Photo', 'Notes', 'ReportsTo',\n",
       "       'PhotoPath', 'OrderId', 'CustomerId', 'OrderDate', 'RequiredDate',\n",
       "       'ShippedDate', 'ShipVia', 'Freight', 'ShipName', 'ShipAddress',\n",
       "       'ShipCity', 'ShipRegion', 'ShipPostalCode', 'ShipCountry', 'Id',\n",
       "       'ProductId', 'UnitPrice', 'Quantity', 'Discount', 'Discount_bin',\n",
       "       'ProductName', 'SupplierId', 'CategoryId', 'QuantityPerUnit',\n",
       "       'UnitsInStock', 'UnitsOnOrder', 'ReorderLevel', 'Discontinued'],\n",
       "      dtype='object')"
      ]
     },
     "execution_count": 212,
     "metadata": {},
     "output_type": "execute_result"
    }
   ],
   "source": [
    "employees_orders_order_details_products.columns"
   ]
  },
  {
   "cell_type": "code",
   "execution_count": 240,
   "metadata": {},
   "outputs": [
    {
     "data": {
      "text/plain": [
       "array(['2025-10-17'], dtype=object)"
      ]
     },
     "execution_count": 240,
     "metadata": {},
     "output_type": "execute_result"
    },
    {
     "data": {
      "text/plain": [
       "array(['Steven'], dtype=object)"
      ]
     },
     "execution_count": 240,
     "metadata": {},
     "output_type": "execute_result"
    },
    {
     "data": {
      "text/plain": [
       "array(['2013-09-02', '2014-02-20', '2014-01-20', '2014-02-06',\n",
       "       '2013-08-29', '2014-02-03', '2013-07-22', '2013-05-27',\n",
       "       '2013-06-16', '2013-11-05', '2014-01-02', '2014-03-17',\n",
       "       '2014-02-04', '2013-09-19', '2013-10-22', '2012-07-04',\n",
       "       '2013-06-20', '2013-08-28', '2014-01-09', '2014-04-22',\n",
       "       '2014-02-05', '2013-10-21', '2014-01-26', '2013-12-02',\n",
       "       '2013-05-07', '2014-03-03', '2013-10-29'], dtype=object)"
      ]
     },
     "execution_count": 240,
     "metadata": {},
     "output_type": "execute_result"
    }
   ],
   "source": [
    "employees_orders_order_details_products[employees_orders_order_details_products.EmployeeId == 5].HireDate.unique()\n",
    "employees_orders_order_details_products[employees_orders_order_details_products.EmployeeId == 5].FirstName.unique()\n",
    "employees_orders_order_details_products[employees_orders_order_details_products.EmployeeId == 5].OrderDate.unique()"
   ]
  },
  {
   "cell_type": "code",
   "execution_count": 241,
   "metadata": {},
   "outputs": [
    {
     "data": {
      "text/plain": [
       "['2012-07-04',\n",
       " '2013-05-07',\n",
       " '2013-05-27',\n",
       " '2013-06-16',\n",
       " '2013-06-20',\n",
       " '2013-07-22',\n",
       " '2013-08-28',\n",
       " '2013-08-29',\n",
       " '2013-09-02',\n",
       " '2013-09-19',\n",
       " '2013-10-21',\n",
       " '2013-10-22',\n",
       " '2013-10-29',\n",
       " '2013-11-05',\n",
       " '2013-12-02',\n",
       " '2014-01-02',\n",
       " '2014-01-09',\n",
       " '2014-01-20',\n",
       " '2014-01-26',\n",
       " '2014-02-03',\n",
       " '2014-02-04',\n",
       " '2014-02-05',\n",
       " '2014-02-06',\n",
       " '2014-02-20',\n",
       " '2014-03-03',\n",
       " '2014-03-17',\n",
       " '2014-04-22']"
      ]
     },
     "execution_count": 241,
     "metadata": {},
     "output_type": "execute_result"
    }
   ],
   "source": [
    "import time\n",
    "ex_array_time = ['2013-09-02', '2014-02-20', '2014-01-20', '2014-02-06',\n",
    "       '2013-08-29', '2014-02-03', '2013-07-22', '2013-05-27',\n",
    "       '2013-06-16', '2013-11-05', '2014-01-02', '2014-03-17',\n",
    "       '2014-02-04', '2013-09-19', '2013-10-22', '2012-07-04',\n",
    "       '2013-06-20', '2013-08-28', '2014-01-09', '2014-04-22',\n",
    "       '2014-02-05', '2013-10-21', '2014-01-26', '2013-12-02',\n",
    "       '2013-05-07', '2014-03-03', '2013-10-29']\n",
    "ex_array_time.sort(key=lambda x: time.mktime(time.strptime(x,\"%Y-%m-%d\")))\n",
    "ex_array_time"
   ]
  },
  {
   "cell_type": "markdown",
   "metadata": {},
   "source": [
    "## Employee Tenure\n",
    "<br>\n",
    "All employees, with the exception of Steven, have been selling food products for a little more than a year, therefore the total sale and total quantity of products sold can be compared. (Steven has been with the company and actively selling for 8 months longer than the rest of the group, and his numbers are still the lowest)"
   ]
  },
  {
   "cell_type": "markdown",
   "metadata": {},
   "source": [
    "Use one-hot encoding for all of the EmployeeIds in order to convert the categorical feature into a numerical feature to use with our ANOVA Tables."
   ]
  },
  {
   "cell_type": "code",
   "execution_count": 66,
   "metadata": {},
   "outputs": [],
   "source": [
    "one_hot_employeeId = (pd.get_dummies(employees_orders_order_details_products, \n",
    "                                      columns = [\"EmployeeId\"]))"
   ]
  },
  {
   "cell_type": "code",
   "execution_count": 67,
   "metadata": {},
   "outputs": [
    {
     "name": "stdout",
     "output_type": "stream",
     "text": [
      "Janet: $ 154666.63\n",
      "Nancy: $ 141941.01\n",
      "Margaret: $ 140336.79\n",
      "Andrew: $ 137291.92\n",
      "Robert: $ 88825.14\n",
      "Laura: $ 85937.84\n",
      "Anne: $ 64941.57\n",
      "Michael: $ 53371.08\n",
      "Steven: $ 48061.96\n"
     ]
    }
   ],
   "source": [
    "print('Janet: $', round(sum(one_hot_employeeId[one_hot_employeeId.EmployeeId_3 == 1].Total_Sale), 2))\n",
    "print('Nancy: $', round(sum(one_hot_employeeId[one_hot_employeeId.EmployeeId_1 == 1].Total_Sale), 2))\n",
    "print('Margaret: $', round(sum(one_hot_employeeId[one_hot_employeeId.EmployeeId_4 == 1].Total_Sale), 2))\n",
    "print('Andrew: $', round(sum(one_hot_employeeId[one_hot_employeeId.EmployeeId_2 == 1].Total_Sale), 2))\n",
    "print('Robert: $', round(sum(one_hot_employeeId[one_hot_employeeId.EmployeeId_7 == 1].Total_Sale), 2))\n",
    "print('Laura: $', round(sum(one_hot_employeeId[one_hot_employeeId.EmployeeId_8 == 1].Total_Sale), 2))\n",
    "print('Anne: $', round(sum(one_hot_employeeId[one_hot_employeeId.EmployeeId_9 == 1].Total_Sale), 2))\n",
    "print('Michael: $', round(sum(one_hot_employeeId[one_hot_employeeId.EmployeeId_6 == 1].Total_Sale), 2))\n",
    "print('Steven: $', round(sum(one_hot_employeeId[one_hot_employeeId.EmployeeId_5 == 1].Total_Sale), 2))"
   ]
  },
  {
   "cell_type": "code",
   "execution_count": 68,
   "metadata": {},
   "outputs": [
    {
     "name": "stdout",
     "output_type": "stream",
     "text": [
      "Janet: 5661\n",
      "Nancy: 5445\n",
      "Margaret: 5767\n",
      "Andrew: 4553\n",
      "Robert: 3501\n",
      "Laura: 3980\n",
      "Anne: 1884\n",
      "Michael: 2308\n",
      "Steven: 2075\n"
     ]
    }
   ],
   "source": [
    "print('Janet:', sum(one_hot_employeeId[one_hot_employeeId.EmployeeId_3 == 1].Quantity))\n",
    "print('Nancy:', sum(one_hot_employeeId[one_hot_employeeId.EmployeeId_1 == 1].Quantity))\n",
    "print('Margaret:', sum(one_hot_employeeId[one_hot_employeeId.EmployeeId_4 == 1].Quantity))\n",
    "print('Andrew:', sum(one_hot_employeeId[one_hot_employeeId.EmployeeId_2 == 1].Quantity))\n",
    "print('Robert:', sum(one_hot_employeeId[one_hot_employeeId.EmployeeId_7 == 1].Quantity))\n",
    "print('Laura:', sum(one_hot_employeeId[one_hot_employeeId.EmployeeId_8 == 1].Quantity))\n",
    "print('Anne:', sum(one_hot_employeeId[one_hot_employeeId.EmployeeId_9 == 1].Quantity))\n",
    "print('Michael:', sum(one_hot_employeeId[one_hot_employeeId.EmployeeId_6 == 1].Quantity))\n",
    "print('Steven:', sum(one_hot_employeeId[one_hot_employeeId.EmployeeId_5 == 1].Quantity))"
   ]
  },
  {
   "cell_type": "code",
   "execution_count": 69,
   "metadata": {},
   "outputs": [],
   "source": [
    "emp_names_array = ['Janet', 'Nancy', 'Margaret', 'Andrew', 'Robert', 'Laura', 'Anne', 'Michael', 'Steven']\n",
    "emp_total_sale_array = [154666.63, 141941.01, 140336.79, 137291.92, 88825.14, 85937.84, 64941.57, 53371.08, 48061.96]\n",
    "emp_total_quant_array = [5661, 5445, 5767, 4553, 3501, 3980, 1884, 2308, 2075]"
   ]
  },
  {
   "cell_type": "code",
   "execution_count": 70,
   "metadata": {},
   "outputs": [],
   "source": [
    "emp_dictionary_2 = dict(zip(emp_names_array, emp_total_quant_array))\n",
    "emp_dictionary = dict(zip(emp_names_array, emp_total_sale_array))"
   ]
  },
  {
   "cell_type": "code",
   "execution_count": 71,
   "metadata": {},
   "outputs": [],
   "source": [
    "df_employees_sales_quant_1 = pd.DataFrame.from_dict(emp_dictionary_2, orient='index').reset_index()\n",
    "df_employees_sales_quant_1.columns = ['Name', 'Total_Products_Sold']"
   ]
  },
  {
   "cell_type": "code",
   "execution_count": 72,
   "metadata": {},
   "outputs": [],
   "source": [
    "df_employees_sales_quant = pd.DataFrame.from_dict(emp_dictionary, orient='index').reset_index()\n",
    "df_employees_sales_quant.columns = ['Name', 'Total_Sale']"
   ]
  },
  {
   "cell_type": "code",
   "execution_count": 73,
   "metadata": {},
   "outputs": [],
   "source": [
    "combined_df_employees_quant_sale = pd.merge(df_employees_sales_quant_1, df_employees_sales_quant, on='Name')"
   ]
  },
  {
   "cell_type": "code",
   "execution_count": 74,
   "metadata": {},
   "outputs": [
    {
     "data": {
      "text/plain": [
       "<Figure size 720x432 with 0 Axes>"
      ]
     },
     "execution_count": 74,
     "metadata": {},
     "output_type": "execute_result"
    },
    {
     "data": {
      "text/plain": [
       "<matplotlib.axes._subplots.AxesSubplot at 0x1c1cd87710>"
      ]
     },
     "execution_count": 74,
     "metadata": {},
     "output_type": "execute_result"
    },
    {
     "data": {
      "text/plain": [
       "Text(0.5, 1.0, 'Employeee Performance: Total Products Sold')"
      ]
     },
     "execution_count": 74,
     "metadata": {},
     "output_type": "execute_result"
    },
    {
     "data": {
      "text/plain": [
       "Text(0.5, 0, 'Name')"
      ]
     },
     "execution_count": 74,
     "metadata": {},
     "output_type": "execute_result"
    },
    {
     "data": {
      "text/plain": [
       "Text(0, 0.5, 'Total Products Sold')"
      ]
     },
     "execution_count": 74,
     "metadata": {},
     "output_type": "execute_result"
    },
    {
     "data": {
      "image/png": "[encoded data removed]",
      "text/plain": [
       "<Figure size 720x432 with 1 Axes>"
      ]
     },
     "metadata": {
      "needs_background": "light"
     },
     "output_type": "display_data"
    }
   ],
   "source": [
    "plt.figure(figsize=(10,6))\n",
    "sns.barplot(combined_df_employees_quant_sale.Name, combined_df_employees_quant_sale.Total_Products_Sold)\n",
    "plt.title('Employeee Performance: Total Products Sold', fontsize=18, fontweight='bold')\n",
    "plt.xlabel('Name', fontsize=12, fontweight='bold')\n",
    "plt.ylabel('Total Products Sold', fontsize=12, fontweight='bold')"
   ]
  },
  {
   "cell_type": "markdown",
   "metadata": {},
   "source": [
    "__Visualization Analysis__\n",
    "<br>We can clearly see from the graph above that there are differences between each employee's amount of product sold. Janet, Nancy, and Margaret are the top three sales people generating the largest volume of products sold, all above 5000 units. While we see Anne, Michael, and Steven at the bottom."
   ]
  },
  {
   "cell_type": "markdown",
   "metadata": {},
   "source": [
    "__ANOVA Table__"
   ]
  },
  {
   "cell_type": "code",
   "execution_count": 75,
   "metadata": {},
   "outputs": [
    {
     "name": "stdout",
     "output_type": "stream",
     "text": [
      "                        sum_sq      df          F    PR(>F)\n",
      "C(EmployeeId_1)     124.127133     1.0   0.333205  0.563865\n",
      "C(EmployeeId_2)    2609.367032     1.0   7.004538  0.008216\n",
      "C(EmployeeId_3)    3815.342297     1.0  10.241836  0.001402\n",
      "C(EmployeeId_4)      68.158204     1.0   0.182963  0.668901\n",
      "C(EmployeeId_5)    1571.298127     1.0   4.217964  0.040173\n",
      "C(EmployeeId_6)     135.056642     1.0   0.362544  0.547189\n",
      "C(EmployeeId_7)    5379.028249     1.0  14.439366  0.000151\n",
      "C(EmployeeId_8)    1090.625367     1.0   2.927655  0.087282\n",
      "C(EmployeeId_9)      80.919383     1.0   0.217219  0.641236\n",
      "Residual         554317.557745  1488.0        NaN       NaN\n"
     ]
    }
   ],
   "source": [
    "formula = \"Quantity ~ C(EmployeeId_1) + C(EmployeeId_2) + C(EmployeeId_3) + C(EmployeeId_4) + C(EmployeeId_5) + C(EmployeeId_6)\\\n",
    "+ C(EmployeeId_7) + C(EmployeeId_8) + C(EmployeeId_9)\"\n",
    "           \n",
    "lm = ols(formula, one_hot_employeeId).fit()\n",
    "table = sm.stats.anova_lm(lm, typ=2)\n",
    "print(table)\n"
   ]
  },
  {
   "cell_type": "markdown",
   "metadata": {},
   "source": [
    "__Conclusion__\n",
    "\n",
    "Based on the above ANOVA test, we see varied results among the set of employees. EmployeeId 2, 3, 5, and 7 (Andrew, Janet, Steven, and Robert) all resulted in p-values below the alpha threshold of 0.05. So the probability that this data is a result of random circumstance (and we should accept the null hypothesis) is less than 5%. Therefore, we can conclude that their quantities of products sold are significant, rejecting the null hypothesis and accepting the alternate hypothesis: employee performance varies in terms of quantity of products sold."
   ]
  },
  {
   "cell_type": "markdown",
   "metadata": {},
   "source": [
    "------------------------------------------------------"
   ]
  },
  {
   "cell_type": "markdown",
   "metadata": {},
   "source": [
    "## Question 2b\n",
    "__Do the members of our sales team perform equally in terms total sales?__"
   ]
  },
  {
   "cell_type": "markdown",
   "metadata": {},
   "source": [
    "$H_{o}$: All nine members of the sales team have equal performance in terms of selling products, measured by total sale."
   ]
  },
  {
   "cell_type": "markdown",
   "metadata": {},
   "source": [
    "$H_{a}$: Certain members of the sales team perform better and some perform worse than the rest of the team resulting in a greater or lesser amount of total products sold."
   ]
  },
  {
   "cell_type": "markdown",
   "metadata": {},
   "source": [
    "__How:__ Test our hypotheses with a two-tail test accounting for a difference in the total sale of products sld amongst the 9 employees on the sales team.\n",
    "<br>\n",
    "__Tables:__ Employees, Orders, Order Details, Products\n",
    "<br>\n",
    "__Features:__ Total_Sale, EmployeeId_1, EmployeeId_2, EmployeeId_3, EmployeeId_4, EmployeeId_5, EmployeeId_6, EmployeeId_7, EmployeeId_8, EmployeeId_9"
   ]
  },
  {
   "cell_type": "markdown",
   "metadata": {},
   "source": [
    "For total sale, we can take the same approach as we did above comparing employee performance based on the Quantity of products sold, substituting Total_Sale into our ANOVA Table calculation with our one-hot encoded employeeId features."
   ]
  },
  {
   "cell_type": "code",
   "execution_count": 76,
   "metadata": {},
   "outputs": [
    {
     "data": {
      "text/plain": [
       "<Figure size 720x432 with 0 Axes>"
      ]
     },
     "execution_count": 76,
     "metadata": {},
     "output_type": "execute_result"
    },
    {
     "data": {
      "text/plain": [
       "<matplotlib.axes._subplots.AxesSubplot at 0x1c1d0c8e48>"
      ]
     },
     "execution_count": 76,
     "metadata": {},
     "output_type": "execute_result"
    },
    {
     "data": {
      "text/plain": [
       "Text(0.5, 1.0, 'Employeee Performance: Total Sale')"
      ]
     },
     "execution_count": 76,
     "metadata": {},
     "output_type": "execute_result"
    },
    {
     "data": {
      "text/plain": [
       "Text(0.5, 0, 'Name')"
      ]
     },
     "execution_count": 76,
     "metadata": {},
     "output_type": "execute_result"
    },
    {
     "data": {
      "text/plain": [
       "Text(0, 0.5, 'Total Sale')"
      ]
     },
     "execution_count": 76,
     "metadata": {},
     "output_type": "execute_result"
    },
    {
     "data": {
      "image/png": "[encoded data removed]",
      "text/plain": [
       "<Figure size 720x432 with 1 Axes>"
      ]
     },
     "metadata": {
      "needs_background": "light"
     },
     "output_type": "display_data"
    }
   ],
   "source": [
    "plt.figure(figsize=(10,6))\n",
    "sns.barplot(combined_df_employees_quant_sale.Name, combined_df_employees_quant_sale.Total_Sale)\n",
    "plt.title('Employeee Performance: Total Sale', fontsize=18, fontweight='bold')\n",
    "plt.xlabel('Name', fontsize=12, fontweight='bold')\n",
    "plt.ylabel('Total Sale', fontsize=12, fontweight='bold')"
   ]
  },
  {
   "cell_type": "markdown",
   "metadata": {},
   "source": [
    "__Visualization Analysis__\n",
    "<br>From this bar chart, we again clearly see that each employee generated different gross profits from their sales orders. Janet, Nancy, and Margaret are again in the top three of total sales generated, all above 130,000 dollars. We again see Anne, Michael, and Steven at the bottom."
   ]
  },
  {
   "cell_type": "markdown",
   "metadata": {},
   "source": [
    "__ANOVA Table__"
   ]
  },
  {
   "cell_type": "code",
   "execution_count": 77,
   "metadata": {},
   "outputs": [
    {
     "name": "stdout",
     "output_type": "stream",
     "text": [
      "                       sum_sq      df         F    PR(>F)\n",
      "C(EmployeeId_1)  6.373875e+04     1.0  0.062078  0.803275\n",
      "C(EmployeeId_2)  7.474497e+06     1.0  7.279800  0.007052\n",
      "C(EmployeeId_3)  4.250815e+06     1.0  4.140089  0.042056\n",
      "C(EmployeeId_4)  2.001221e+05     1.0  0.194909  0.658926\n",
      "C(EmployeeId_5)  8.358050e+04     1.0  0.081403  0.775444\n",
      "C(EmployeeId_6)  1.021894e+06     1.0  0.995276  0.318619\n",
      "C(EmployeeId_7)  2.735335e+06     1.0  2.664085  0.102848\n",
      "C(EmployeeId_8)  3.764771e+05     1.0  0.366671  0.544917\n",
      "C(EmployeeId_9)  4.277415e+06     1.0  4.165996  0.041419\n",
      "Residual         1.527796e+09  1488.0       NaN       NaN\n"
     ]
    }
   ],
   "source": [
    "formula = \"Total_Sale ~ C(EmployeeId_1) + C(EmployeeId_2) + C(EmployeeId_3) + C(EmployeeId_4) + C(EmployeeId_5) + C(EmployeeId_6)\\\n",
    "+ C(EmployeeId_7) + C(EmployeeId_8) + C(EmployeeId_9)\"\n",
    "           \n",
    "lm = ols(formula, one_hot_employeeId).fit()\n",
    "table = sm.stats.anova_lm(lm, typ=2)\n",
    "print(table)\n"
   ]
  },
  {
   "cell_type": "markdown",
   "metadata": {},
   "source": [
    "__Conclusion__"
   ]
  },
  {
   "cell_type": "markdown",
   "metadata": {},
   "source": [
    "Based on the above ANOVA test, we again see varied results among the set of employees. This time, EmployeeId 2, 3, and 9 (Andrew, Janet, and Anne) all resulted in p-values below the alpha threshold of 0.05. Therefore, we can conclude that their total sales figures are significant, thus we can reject the null hypothesis that all employees perform equally in terms of amount ($) total sold. These results match what we saw in our visualizations above."
   ]
  },
  {
   "cell_type": "markdown",
   "metadata": {},
   "source": [
    "__Quantity vs. Total Sale Performance Comparison__\n",
    "<br>Our two ANOVA Tests produced different results when comparing employee performance based on quantity of products sold and total sale. Employees 2 and 3 (Andrew and Janet) were the two shared results between the two tests with p-values below the alpha threshold. The deltas we see are with the employee 5 and 7 results: low enough p-values for quantity of products sold but not for total_sale AND employee 9: low enough p-value for total_sale but not for quantity of products sold."
   ]
  },
  {
   "cell_type": "markdown",
   "metadata": {},
   "source": [
    "--------"
   ]
  },
  {
   "cell_type": "markdown",
   "metadata": {},
   "source": [
    "# Customer Buying Trends"
   ]
  },
  {
   "cell_type": "markdown",
   "metadata": {},
   "source": [
    "## Question 3\n",
    "__Are reorder levels effective indicators of popular products?__"
   ]
  },
  {
   "cell_type": "markdown",
   "metadata": {},
   "source": [
    "$H_{o}$: Reorder levels have no impact on the number of customer orders for a particular product."
   ]
  },
  {
   "cell_type": "markdown",
   "metadata": {},
   "source": [
    "$H_{a}$: The magnitude of reorders impacts the number of orders for a particular product."
   ]
  },
  {
   "cell_type": "markdown",
   "metadata": {},
   "source": [
    "__Hypothesis Testing Type__: Two-Tailed"
   ]
  },
  {
   "cell_type": "markdown",
   "metadata": {},
   "source": [
    "__How:__ Test our hypotheses with a two-tail test accounting for a difference in the number of customer orders for products based on reorder level.\n",
    "<br>\n",
    "__Tables:__ Products, Employees, Customers, Orders, Order Details, Categories\n",
    "<br>\n",
    "__Features:__ ReorderLevel, Quantity"
   ]
  },
  {
   "cell_type": "markdown",
   "metadata": {},
   "source": [
    "__Control Group__: Orders of products with no reorder level\n",
    "<br>\n",
    "__Experimental Group__: Positive reorder level products"
   ]
  },
  {
   "cell_type": "markdown",
   "metadata": {},
   "source": [
    "### Data Wrangling\n",
    "Tables: Products, Employees, Customers, Orders, Order Details, Categories"
   ]
  },
  {
   "cell_type": "code",
   "execution_count": 78,
   "metadata": {},
   "outputs": [
    {
     "data": {
      "text/plain": [
       "count    77.000000\n",
       "mean     12.467532\n",
       "std      10.931105\n",
       "min       0.000000\n",
       "25%       0.000000\n",
       "50%      10.000000\n",
       "75%      25.000000\n",
       "max      30.000000\n",
       "Name: ReorderLevel, dtype: float64"
      ]
     },
     "execution_count": 78,
     "metadata": {},
     "output_type": "execute_result"
    }
   ],
   "source": [
    "products.ReorderLevel.describe()"
   ]
  },
  {
   "cell_type": "code",
   "execution_count": 79,
   "metadata": {},
   "outputs": [],
   "source": [
    "categories.columns = ['CategoryId', 'CategoryName', 'Description']"
   ]
  },
  {
   "cell_type": "code",
   "execution_count": 264,
   "metadata": {},
   "outputs": [
    {
     "data": {
      "text/plain": [
       "array([ 5,  0, 15, 20, 30, 10, 25])"
      ]
     },
     "execution_count": 264,
     "metadata": {},
     "output_type": "execute_result"
    }
   ],
   "source": [
    "employees_orders_order_details_products_categories.ReorderLevel.unique()"
   ]
  },
  {
   "cell_type": "code",
   "execution_count": 80,
   "metadata": {},
   "outputs": [],
   "source": [
    "employees_orders_order_details_products_categories = pd.merge(employees_orders_order_details_products,\n",
    "                                                   categories,\n",
    "                                                   on='CategoryId')"
   ]
  },
  {
   "cell_type": "code",
   "execution_count": 245,
   "metadata": {},
   "outputs": [
    {
     "data": {
      "text/plain": [
       "2213"
      ]
     },
     "execution_count": 245,
     "metadata": {},
     "output_type": "execute_result"
    }
   ],
   "source": [
    "sum(employees_orders_order_details_products_categories.Quantity.unique())"
   ]
  },
  {
   "cell_type": "code",
   "execution_count": 244,
   "metadata": {},
   "outputs": [
    {
     "data": {
      "text/plain": [
       "0    10\n",
       "1     6\n",
       "2    28\n",
       "3    10\n",
       "4     4\n",
       "Name: Quantity, dtype: int64"
      ]
     },
     "execution_count": 244,
     "metadata": {},
     "output_type": "execute_result"
    }
   ],
   "source": [
    "employees_orders_order_details_products_categories['Quantity'].head()"
   ]
  },
  {
   "cell_type": "code",
   "execution_count": 265,
   "metadata": {},
   "outputs": [
    {
     "data": {
      "text/html": [
       "<div>\n",
       "<style scoped>\n",
       "    .dataframe tbody tr th:only-of-type {\n",
       "        vertical-align: middle;\n",
       "    }\n",
       "\n",
       "    .dataframe tbody tr th {\n",
       "        vertical-align: top;\n",
       "    }\n",
       "\n",
       "    .dataframe thead th {\n",
       "        text-align: right;\n",
       "    }\n",
       "</style>\n",
       "<table border=\"1\" class=\"dataframe\">\n",
       "  <thead>\n",
       "    <tr style=\"text-align: right;\">\n",
       "      <th></th>\n",
       "      <th>Reorder_Level</th>\n",
       "      <th>Quantity</th>\n",
       "    </tr>\n",
       "  </thead>\n",
       "  <tbody>\n",
       "    <tr>\n",
       "      <th>0</th>\n",
       "      <td>0.00</td>\n",
       "      <td>915</td>\n",
       "    </tr>\n",
       "    <tr>\n",
       "      <th>1</th>\n",
       "      <td>0.05</td>\n",
       "      <td>136</td>\n",
       "    </tr>\n",
       "    <tr>\n",
       "      <th>2</th>\n",
       "      <td>0.25</td>\n",
       "      <td>115</td>\n",
       "    </tr>\n",
       "    <tr>\n",
       "      <th>3</th>\n",
       "      <td>0.15</td>\n",
       "      <td>111</td>\n",
       "    </tr>\n",
       "    <tr>\n",
       "      <th>4</th>\n",
       "      <td>0.20</td>\n",
       "      <td>107</td>\n",
       "    </tr>\n",
       "    <tr>\n",
       "      <th>5</th>\n",
       "      <td>0.10</td>\n",
       "      <td>105</td>\n",
       "    </tr>\n",
       "    <tr>\n",
       "      <th>6</th>\n",
       "      <td>0.03</td>\n",
       "      <td>3</td>\n",
       "    </tr>\n",
       "    <tr>\n",
       "      <th>7</th>\n",
       "      <td>0.02</td>\n",
       "      <td>2</td>\n",
       "    </tr>\n",
       "    <tr>\n",
       "      <th>8</th>\n",
       "      <td>0.04</td>\n",
       "      <td>1</td>\n",
       "    </tr>\n",
       "    <tr>\n",
       "      <th>9</th>\n",
       "      <td>0.06</td>\n",
       "      <td>1</td>\n",
       "    </tr>\n",
       "  </tbody>\n",
       "</table>\n",
       "</div>"
      ],
      "text/plain": [
       "   Reorder_Level  Quantity\n",
       "0           0.00       915\n",
       "1           0.05       136\n",
       "2           0.25       115\n",
       "3           0.15       111\n",
       "4           0.20       107\n",
       "5           0.10       105\n",
       "6           0.03         3\n",
       "7           0.02         2\n",
       "8           0.04         1\n",
       "9           0.06         1"
      ]
     },
     "execution_count": 265,
     "metadata": {},
     "output_type": "execute_result"
    }
   ],
   "source": [
    "reorder_value_counts = pd.DataFrame(employees_orders_order_details_products_categories.Discount.value_counts())\n",
    "reorder_value_counts = reorder_value_counts.reset_index()\n",
    "reorder_value_counts.columns = ['Reorder_Level', 'Quantity']\n",
    "reorder_value_counts.head(10)"
   ]
  },
  {
   "cell_type": "code",
   "execution_count": 267,
   "metadata": {},
   "outputs": [
    {
     "data": {
      "text/plain": [
       "<Figure size 432x216 with 0 Axes>"
      ]
     },
     "execution_count": 267,
     "metadata": {},
     "output_type": "execute_result"
    },
    {
     "data": {
      "text/plain": [
       "<matplotlib.axes._subplots.AxesSubplot at 0x1c2104b828>"
      ]
     },
     "execution_count": 267,
     "metadata": {},
     "output_type": "execute_result"
    },
    {
     "data": {
      "text/plain": [
       "Text(0.5, 1.0, 'All Orders Reorder Levels')"
      ]
     },
     "execution_count": 267,
     "metadata": {},
     "output_type": "execute_result"
    },
    {
     "data": {
      "text/plain": [
       "Text(0.5, 0, 'Reorder Level')"
      ]
     },
     "execution_count": 267,
     "metadata": {},
     "output_type": "execute_result"
    },
    {
     "data": {
      "text/plain": [
       "Text(0, 0.5, 'Number of Orders')"
      ]
     },
     "execution_count": 267,
     "metadata": {},
     "output_type": "execute_result"
    },
    {
     "data": {
      "image/png": "[encoded data removed]",
      "text/plain": [
       "<Figure size 432x216 with 1 Axes>"
      ]
     },
     "metadata": {
      "needs_background": "light"
     },
     "output_type": "display_data"
    }
   ],
   "source": [
    "plt.figure(figsize=(6,3))\n",
    "sns.barplot(reorder_value_counts.Reorder_Level, reorder_value_counts.Quantity)\n",
    "plt.title('All Orders Reorder Levels', fontweight='bold', fontsize=15)\n",
    "plt.xlabel('Reorder Level', fontweight='bold', fontsize=12)\n",
    "plt.ylabel('Number of Orders', fontweight='bold', fontsize=12)"
   ]
  },
  {
   "cell_type": "code",
   "execution_count": 304,
   "metadata": {},
   "outputs": [],
   "source": [
    "experimental_high_impact_products = employees_orders_order_details_products[\n",
    "    employees_orders_order_details_products.ReorderLevel > 0]\n",
    "control_low_impact_products = employees_orders_order_details_products[\n",
    "    employees_orders_order_details_products.ReorderLevel == 0]"
   ]
  },
  {
   "cell_type": "code",
   "execution_count": 289,
   "metadata": {},
   "outputs": [
    {
     "data": {
      "text/plain": [
       "0     489\n",
       "25    193\n",
       "15    183\n",
       "10    180\n",
       "20    160\n",
       "30    159\n",
       "5     133\n",
       "Name: ReorderLevel, dtype: int64"
      ]
     },
     "execution_count": 289,
     "metadata": {},
     "output_type": "execute_result"
    }
   ],
   "source": [
    "employees_orders_order_details_products.ReorderLevel.value_counts()"
   ]
  },
  {
   "cell_type": "code",
   "execution_count": 293,
   "metadata": {},
   "outputs": [
    {
     "data": {
      "text/plain": [
       "<matplotlib.axes._subplots.AxesSubplot at 0x1c218a6550>"
      ]
     },
     "execution_count": 293,
     "metadata": {},
     "output_type": "execute_result"
    },
    {
     "data": {
      "text/plain": [
       "Text(0.5, 1.0, 'All Orders: Reorder Level Distribution')"
      ]
     },
     "execution_count": 293,
     "metadata": {},
     "output_type": "execute_result"
    },
    {
     "data": {
      "text/plain": [
       "Text(0.5, 0, 'Reorder Level')"
      ]
     },
     "execution_count": 293,
     "metadata": {},
     "output_type": "execute_result"
    },
    {
     "data": {
      "text/plain": [
       "Text(0, 0.5, 'Number of Orders')"
      ]
     },
     "execution_count": 293,
     "metadata": {},
     "output_type": "execute_result"
    },
    {
     "data": {
      "image/png": "[encoded data removed]",
      "text/plain": [
       "<Figure size 432x288 with 1 Axes>"
      ]
     },
     "metadata": {
      "needs_background": "light"
     },
     "output_type": "display_data"
    }
   ],
   "source": [
    "y = [489, 193, 183, 180, 160, 159, 133]\n",
    "x = [0, 25, 15, 10, 20, 30, 5]\n",
    "sns.barplot(x,y)\n",
    "plt.title('All Orders: Reorder Level Distribution', fontweight='bold', fontsize=15)\n",
    "plt.xlabel('Reorder Level', fontweight='bold', fontsize=12)\n",
    "plt.ylabel('Number of Orders', fontweight='bold', fontsize=12)"
   ]
  },
  {
   "cell_type": "code",
   "execution_count": 297,
   "metadata": {},
   "outputs": [
    {
     "data": {
      "text/plain": [
       "11437"
      ]
     },
     "execution_count": 297,
     "metadata": {},
     "output_type": "execute_result"
    },
    {
     "data": {
      "text/plain": [
       "3153"
      ]
     },
     "execution_count": 297,
     "metadata": {},
     "output_type": "execute_result"
    },
    {
     "data": {
      "text/plain": [
       "4171"
      ]
     },
     "execution_count": 297,
     "metadata": {},
     "output_type": "execute_result"
    },
    {
     "data": {
      "text/plain": [
       "4321"
      ]
     },
     "execution_count": 297,
     "metadata": {},
     "output_type": "execute_result"
    },
    {
     "data": {
      "text/plain": [
       "3813"
      ]
     },
     "execution_count": 297,
     "metadata": {},
     "output_type": "execute_result"
    },
    {
     "data": {
      "text/plain": [
       "4488"
      ]
     },
     "execution_count": 297,
     "metadata": {},
     "output_type": "execute_result"
    },
    {
     "data": {
      "text/plain": [
       "3791"
      ]
     },
     "execution_count": 297,
     "metadata": {},
     "output_type": "execute_result"
    }
   ],
   "source": [
    "sum(employees_orders_order_details_products[employees_orders_order_details_products.ReorderLevel == 0].Quantity)\n",
    "sum(employees_orders_order_details_products[employees_orders_order_details_products.ReorderLevel == 5].Quantity)\n",
    "sum(employees_orders_order_details_products[employees_orders_order_details_products.ReorderLevel == 10].Quantity)\n",
    "sum(employees_orders_order_details_products[employees_orders_order_details_products.ReorderLevel == 15].Quantity)\n",
    "sum(employees_orders_order_details_products[employees_orders_order_details_products.ReorderLevel == 20].Quantity)\n",
    "sum(employees_orders_order_details_products[employees_orders_order_details_products.ReorderLevel == 25].Quantity)\n",
    "sum(employees_orders_order_details_products[employees_orders_order_details_products.ReorderLevel == 30].Quantity)"
   ]
  },
  {
   "cell_type": "code",
   "execution_count": 299,
   "metadata": {},
   "outputs": [
    {
     "data": {
      "text/plain": [
       "35174"
      ]
     },
     "execution_count": 299,
     "metadata": {},
     "output_type": "execute_result"
    }
   ],
   "source": [
    "sum(employees_orders_order_details_products[employees_orders_order_details_products.ReorderLevel == 0].Quantity) + sum(employees_orders_order_details_products[employees_orders_order_details_products.ReorderLevel == 5].Quantity) + sum(employees_orders_order_details_products[employees_orders_order_details_products.ReorderLevel == 10].Quantity)+sum(employees_orders_order_details_products[employees_orders_order_details_products.ReorderLevel == 15].Quantity)+sum(employees_orders_order_details_products[employees_orders_order_details_products.ReorderLevel == 20].Quantity)+sum(employees_orders_order_details_products[employees_orders_order_details_products.ReorderLevel == 25].Quantity)+sum(employees_orders_order_details_products[employees_orders_order_details_products.ReorderLevel == 30].Quantity)"
   ]
  },
  {
   "cell_type": "code",
   "execution_count": 303,
   "metadata": {},
   "outputs": [
    {
     "data": {
      "text/plain": [
       "<matplotlib.axes._subplots.AxesSubplot at 0x1c208a5320>"
      ]
     },
     "execution_count": 303,
     "metadata": {},
     "output_type": "execute_result"
    },
    {
     "data": {
      "text/plain": [
       "Text(0.5, 1.0, 'Quantity of Product Across Reorder Levels')"
      ]
     },
     "execution_count": 303,
     "metadata": {},
     "output_type": "execute_result"
    },
    {
     "data": {
      "text/plain": [
       "Text(0.5, 0, 'Reorder Level')"
      ]
     },
     "execution_count": 303,
     "metadata": {},
     "output_type": "execute_result"
    },
    {
     "data": {
      "text/plain": [
       "Text(0, 0.5, 'Quantity')"
      ]
     },
     "execution_count": 303,
     "metadata": {},
     "output_type": "execute_result"
    },
    {
     "data": {
      "image/png": "[encoded data removed]",
      "text/plain": [
       "<Figure size 432x288 with 1 Axes>"
      ]
     },
     "metadata": {
      "needs_background": "light"
     },
     "output_type": "display_data"
    }
   ],
   "source": [
    "y = [11437,3153,4171,4321,3813,4488,3791]\n",
    "x = [0, 5, 10, 15, 20, 25, 30]\n",
    "sns.barplot(x,y)\n",
    "plt.title('Quantity of Product Across Reorder Levels', fontweight='bold', fontsize=13)\n",
    "plt.xlabel('Reorder Level', fontweight='bold', fontsize=11)\n",
    "plt.ylabel('Quantity', fontweight='bold', fontsize=11)"
   ]
  },
  {
   "cell_type": "markdown",
   "metadata": {},
   "source": [
    "__Variance__"
   ]
  },
  {
   "cell_type": "code",
   "execution_count": 306,
   "metadata": {},
   "outputs": [
    {
     "name": "stdout",
     "output_type": "stream",
     "text": [
      "Control Group Variance: 384.7175735022965\n",
      "Experimental Group Variance: 369.951954374931\n",
      "Difference 14.765619127365483\n"
     ]
    }
   ],
   "source": [
    "print('Control Group Variance:', control_low_impact_products.Quantity.var())\n",
    "print('Experimental Group Variance:', experimental_high_impact_products.Quantity.var())\n",
    "print('Difference', abs(control_low_impact_products.Quantity.var() - experimental_high_impact_products.Quantity.var()))"
   ]
  },
  {
   "cell_type": "code",
   "execution_count": 307,
   "metadata": {},
   "outputs": [
    {
     "data": {
      "text/plain": [
       "<Figure size 720x432 with 0 Axes>"
      ]
     },
     "execution_count": 307,
     "metadata": {},
     "output_type": "execute_result"
    },
    {
     "data": {
      "text/plain": [
       "<matplotlib.axes._subplots.AxesSubplot at 0x1c2081d6a0>"
      ]
     },
     "execution_count": 307,
     "metadata": {},
     "output_type": "execute_result"
    },
    {
     "data": {
      "text/plain": [
       "<matplotlib.axes._subplots.AxesSubplot at 0x1c2081d6a0>"
      ]
     },
     "execution_count": 307,
     "metadata": {},
     "output_type": "execute_result"
    },
    {
     "data": {
      "text/plain": [
       "Text(0.5, 1.0, 'Reorder Level Sample Distribution')"
      ]
     },
     "execution_count": 307,
     "metadata": {},
     "output_type": "execute_result"
    },
    {
     "data": {
      "text/plain": [
       "Text(0.5, 0, 'Reorder Level')"
      ]
     },
     "execution_count": 307,
     "metadata": {},
     "output_type": "execute_result"
    },
    {
     "data": {
      "text/plain": [
       "<matplotlib.legend.Legend at 0x1c21d46908>"
      ]
     },
     "execution_count": 307,
     "metadata": {},
     "output_type": "execute_result"
    },
    {
     "data": {
      "image/png": "[encoded data removed]",
      "text/plain": [
       "<Figure size 720x432 with 1 Axes>"
      ]
     },
     "metadata": {
      "needs_background": "light"
     },
     "output_type": "display_data"
    }
   ],
   "source": [
    "plt.figure(figsize=(10,6))\n",
    "sns.distplot(control_low_impact_products.Quantity, label='Control Sample')\n",
    "sns.distplot(experimental_high_impact_products.Quantity, label='Experimental Sample')\n",
    "plt.title('Reorder Level Sample Distribution', fontsize=16, fontweight='bold')\n",
    "plt.xlabel('Reorder Level', fontsize=12, fontweight='bold')\n",
    "plt.legend(fontsize=14)"
   ]
  },
  {
   "cell_type": "markdown",
   "metadata": {},
   "source": [
    "### Normality Test - Two-tailed - Statsmodels Normal Test"
   ]
  },
  {
   "cell_type": "code",
   "execution_count": 308,
   "metadata": {},
   "outputs": [
    {
     "name": "stdout",
     "output_type": "stream",
     "text": [
      "Normality of Control Group NormaltestResult(statistic=201.20025815444595, pvalue=2.041357473034165e-44)\n",
      "Normality of Experimental Group NormaltestResult(statistic=404.56882747121597, pvalue=1.4092736754417282e-88)\n"
     ]
    }
   ],
   "source": [
    "print('Normality of Control Group', stats.normaltest(control_low_impact_products.Quantity))\n",
    "print('Normality of Experimental Group', stats.normaltest(experimental_high_impact_products.Quantity))"
   ]
  },
  {
   "cell_type": "markdown",
   "metadata": {},
   "source": [
    "The results of the normalality tests above fall in line with the distribution plot above. Very small p-values provide additional evidence that the distributions are not normal, thus we cannot fulfill that assumption to move forward."
   ]
  },
  {
   "cell_type": "markdown",
   "metadata": {},
   "source": [
    "### Effect Size"
   ]
  },
  {
   "cell_type": "code",
   "execution_count": 309,
   "metadata": {},
   "outputs": [
    {
     "name": "stdout",
     "output_type": "stream",
     "text": [
      "Cohen's d: 0.0002621987471826185\n"
     ]
    }
   ],
   "source": [
    "print(\"Cohen's d:\", Cohens_d(np.array(experimental_high_impact_products.Quantity), \n",
    "                             np.array(control_low_impact_products.Quantity)))"
   ]
  },
  {
   "cell_type": "markdown",
   "metadata": {},
   "source": [
    "## No Normality, Slight Difference in Variance, Small Effect Size - Resampling"
   ]
  },
  {
   "cell_type": "markdown",
   "metadata": {},
   "source": [
    "#### Create a new Sample Distribution"
   ]
  },
  {
   "cell_type": "code",
   "execution_count": 310,
   "metadata": {},
   "outputs": [],
   "source": [
    "control_sample = create_sample_distribution(control_low_impact_products.Quantity)\n",
    "experimental_sample = create_sample_distribution(experimental_high_impact_products.Quantity)"
   ]
  },
  {
   "cell_type": "markdown",
   "metadata": {},
   "source": [
    "__Sample Variance__"
   ]
  },
  {
   "cell_type": "code",
   "execution_count": 311,
   "metadata": {},
   "outputs": [
    {
     "name": "stdout",
     "output_type": "stream",
     "text": [
      "Control Group Variance: 0.7360836678999999\n",
      "Experimental Group Variance: 0.7208466012439999\n",
      "Difference 0.015237066655999998\n"
     ]
    }
   ],
   "source": [
    "print('Control Group Variance:', np.array(control_sample).var())\n",
    "print('Experimental Group Variance:', np.array(experimental_sample).var())\n",
    "print('Difference', abs(np.array(control_sample).var() - np.array(experimental_sample).var()))"
   ]
  },
  {
   "cell_type": "code",
   "execution_count": 312,
   "metadata": {
    "scrolled": false
   },
   "outputs": [
    {
     "data": {
      "text/plain": [
       "<Figure size 720x432 with 0 Axes>"
      ]
     },
     "execution_count": 312,
     "metadata": {},
     "output_type": "execute_result"
    },
    {
     "data": {
      "text/plain": [
       "<matplotlib.axes._subplots.AxesSubplot at 0x1c21f02320>"
      ]
     },
     "execution_count": 312,
     "metadata": {},
     "output_type": "execute_result"
    },
    {
     "data": {
      "text/plain": [
       "<matplotlib.axes._subplots.AxesSubplot at 0x1c21f02320>"
      ]
     },
     "execution_count": 312,
     "metadata": {},
     "output_type": "execute_result"
    },
    {
     "data": {
      "text/plain": [
       "Text(0.5, 1.0, 'Reorder Level Sample Distribution')"
      ]
     },
     "execution_count": 312,
     "metadata": {},
     "output_type": "execute_result"
    },
    {
     "data": {
      "text/plain": [
       "Text(0.5, 0, 'Reorder Level')"
      ]
     },
     "execution_count": 312,
     "metadata": {},
     "output_type": "execute_result"
    },
    {
     "data": {
      "text/plain": [
       "<matplotlib.legend.Legend at 0x1c1b8f1400>"
      ]
     },
     "execution_count": 312,
     "metadata": {},
     "output_type": "execute_result"
    },
    {
     "data": {
      "image/png": "[encoded data removed]",
      "text/plain": [
       "<Figure size 720x432 with 1 Axes>"
      ]
     },
     "metadata": {
      "needs_background": "light"
     },
     "output_type": "display_data"
    }
   ],
   "source": [
    "plt.figure(figsize=(10,6))\n",
    "sns.distplot(control_sample, label='Control Sample')\n",
    "sns.distplot(experimental_sample, label='Experimental Sample')\n",
    "plt.title('Reorder Level Sample Distribution', fontsize=16, fontweight='bold')\n",
    "plt.xlabel('Reorder Level', fontsize=12, fontweight='bold')\n",
    "plt.legend(fontsize=14)"
   ]
  },
  {
   "cell_type": "markdown",
   "metadata": {},
   "source": [
    "__Distribution Analysis__\n",
    "We now see distributions for the control and experimental samples resembling normal distributions with minimal variance between the two groups (similar means consistent with Cohen's d value of 0.0003)"
   ]
  },
  {
   "cell_type": "code",
   "execution_count": 314,
   "metadata": {},
   "outputs": [],
   "source": [
    "reordered_products = products[products.ReorderLevel > 0]\n",
    "no_reorder_products = products[products.ReorderLevel == 0]"
   ]
  },
  {
   "cell_type": "code",
   "execution_count": 315,
   "metadata": {},
   "outputs": [
    {
     "data": {
      "text/plain": [
       "0.0014639765063184037"
      ]
     },
     "execution_count": 315,
     "metadata": {},
     "output_type": "execute_result"
    }
   ],
   "source": [
    "reorder_level_p_value = stats.ttest_ind(control_sample, experimental_sample)[1]\n",
    "reorder_level_p_value"
   ]
  },
  {
   "cell_type": "markdown",
   "metadata": {},
   "source": [
    "### Conclusion"
   ]
  },
  {
   "cell_type": "markdown",
   "metadata": {},
   "source": [
    "With this low p-value below the alpha threshold of 0.05, we can reject the null hypothesis and accept the alternative. Reorder levels do affect the quantity of product sold."
   ]
  },
  {
   "cell_type": "markdown",
   "metadata": {},
   "source": [
    "## Testing Each Reorder Level"
   ]
  },
  {
   "cell_type": "markdown",
   "metadata": {},
   "source": [
    "### Normality Test - Two-tailed - Statsmodels Normal Test"
   ]
  },
  {
   "cell_type": "code",
   "execution_count": 277,
   "metadata": {},
   "outputs": [
    {
     "data": {
      "text/plain": [
       "array([ 5,  0, 15, 25, 10, 20, 30])"
      ]
     },
     "execution_count": 277,
     "metadata": {},
     "output_type": "execute_result"
    }
   ],
   "source": [
    "employees_orders_order_details_products.ReorderLevel.unique()"
   ]
  },
  {
   "cell_type": "code",
   "execution_count": 278,
   "metadata": {},
   "outputs": [
    {
     "name": "stdout",
     "output_type": "stream",
     "text": [
      "Normality of 5% reorder NormaltestResult(statistic=64.9754474677469, pvalue=7.776082378440185e-15)\n"
     ]
    }
   ],
   "source": [
    "print('Normality of 5% reorder', stats.normaltest(employees_orders_order_details_products[\n",
    "    employees_orders_order_details_products.ReorderLevel == 5].Quantity))"
   ]
  },
  {
   "cell_type": "code",
   "execution_count": 279,
   "metadata": {},
   "outputs": [
    {
     "name": "stdout",
     "output_type": "stream",
     "text": [
      "Normality of 5% reorder NormaltestResult(statistic=64.9754474677469, pvalue=7.776082378440185e-15)\n",
      "Normality of 10% reorder NormaltestResult(statistic=87.01070213276076, pvalue=1.276045318689801e-19)\n",
      "Normality of 15% reorder NormaltestResult(statistic=78.3550422263691, pvalue=9.669828371043595e-18)\n",
      "Normality of 20% reorder NormaltestResult(statistic=30.712958798059518, pvalue=2.1417350079449934e-07)\n",
      "Normality of 25% reorder NormaltestResult(statistic=94.18274946140048, pvalue=3.535703262135695e-21)\n"
     ]
    }
   ],
   "source": [
    "print('Normality of 5% reorder', stats.normaltest(employees_orders_order_details_products[\n",
    "    employees_orders_order_details_products.ReorderLevel == 5].Quantity))\n",
    "print('Normality of 10% reorder', stats.normaltest(employees_orders_order_details_products[\n",
    "    employees_orders_order_details_products.ReorderLevel == 10].Quantity))\n",
    "print('Normality of 15% reorder', stats.normaltest(employees_orders_order_details_products[\n",
    "    employees_orders_order_details_products.ReorderLevel == 15].Quantity))\n",
    "print('Normality of 20% reorder', stats.normaltest(employees_orders_order_details_products[\n",
    "    employees_orders_order_details_products.ReorderLevel == 20].Quantity))\n",
    "print('Normality of 25% reorder', stats.normaltest(employees_orders_order_details_products[\n",
    "    employees_orders_order_details_products.ReorderLevel == 25].Quantity))"
   ]
  },
  {
   "cell_type": "markdown",
   "metadata": {},
   "source": [
    "Based on the p-values above, these data sets do NOT represent normal distributions. We will need to move forward with a Welch's T Test, as this specific test does not require the data meets the normality assumption"
   ]
  },
  {
   "cell_type": "markdown",
   "metadata": {},
   "source": [
    "### Welch's T Test"
   ]
  },
  {
   "cell_type": "code",
   "execution_count": 317,
   "metadata": {},
   "outputs": [
    {
     "name": "stdout",
     "output_type": "stream",
     "text": [
      "\n",
      " Welch's t-test= -1.0773 \n",
      " p-value = 0.2830 \n",
      " Welch-Satterthwaite Degrees of Freedom= 151.9183\n",
      "\n",
      " Welch's t-test= -0.9293 \n",
      " p-value = 0.3538 \n",
      " Welch-Satterthwaite Degrees of Freedom= 218.0716\n",
      "\n",
      " Welch's t-test= -1.3332 \n",
      " p-value = 0.1838 \n",
      " Welch-Satterthwaite Degrees of Freedom= 231.8218\n",
      "\n",
      " Welch's t-test= -1.4667 \n",
      " p-value = 0.1440 \n",
      " Welch-Satterthwaite Degrees of Freedom= 201.1705\n",
      "\n",
      " Welch's t-test= -1.0213 \n",
      " p-value = 0.3082 \n",
      " Welch-Satterthwaite Degrees of Freedom= 237.9271\n"
     ]
    }
   ],
   "source": [
    "welch_ttest(no_discount.Quantity, employees_orders_order_details_products[\n",
    "    employees_orders_order_details_products.ReorderLevel == 5].Quantity)\n",
    "welch_ttest(no_discount.Quantity, employees_orders_order_details_products[\n",
    "    employees_orders_order_details_products.ReorderLevel == 10].Quantity)\n",
    "welch_ttest(no_discount.Quantity, employees_orders_order_details_products[\n",
    "    employees_orders_order_details_products.ReorderLevel == 15].Quantity)\n",
    "welch_ttest(no_discount.Quantity, employees_orders_order_details_products[\n",
    "    employees_orders_order_details_products.ReorderLevel == 20].Quantity)\n",
    "welch_ttest(no_discount.Quantity, employees_orders_order_details_products[\n",
    "    employees_orders_order_details_products.ReorderLevel == 25].Quantity)"
   ]
  },
  {
   "cell_type": "markdown",
   "metadata": {},
   "source": [
    "## Conclusion\n",
    "<br>\n",
    "All p-values from the T-Tests conducted for each of the major reorder levels are above the alpha threshold 0.05. So fail to reject the null hypothesis and therefore reject the alternative hypothesis. None of the positive reorder levels do not significantly effect the average quantity of products per order.\n",
    "\n",
    "So, we have found that there is a statistical significance in the quantity of products sold between orders without any reorders and those with varying levels of reorders. However, there is not a significant difference between those positive reorder levels in relation to the quantity of products sold in those orders."
   ]
  },
  {
   "cell_type": "markdown",
   "metadata": {},
   "source": [
    "---------------------------------------------------------------------------------------------------------------------"
   ]
  },
  {
   "cell_type": "markdown",
   "metadata": {},
   "source": [
    "# Shipping Efficiency - Freight Costs"
   ]
  },
  {
   "cell_type": "markdown",
   "metadata": {},
   "source": [
    "## Question 4\n",
    "__Does the region of the customer versus the region of the supplier impact the shipping prices associated with the freight for these orders?__"
   ]
  },
  {
   "cell_type": "markdown",
   "metadata": {},
   "source": [
    "$H_{o}$: The region of the customer and supplier have no impact on the price that suppliers pay for shipping products to the customer (freight)."
   ]
  },
  {
   "cell_type": "markdown",
   "metadata": {},
   "source": [
    "$H_{a}$: The region of the customer and supplier either increases or decreases the shipping cost of products (freight)."
   ]
  },
  {
   "cell_type": "markdown",
   "metadata": {},
   "source": [
    "__Hypothesis Testing Type__: Two-Tailed"
   ]
  },
  {
   "cell_type": "markdown",
   "metadata": {},
   "source": [
    "__How:__ Test our hypotheses with a two-tail test accounting for a difference in the number of customer orders for products based on reorder level.\n",
    "<br>\n",
    "__Tables:__ Products, Employees, Customers, Orders, Order Details, Categories\n",
    "<br>\n",
    "__Features:__ Freight, Quantity"
   ]
  },
  {
   "cell_type": "markdown",
   "metadata": {},
   "source": [
    "__Control Group__: Orders between customer and supplier in different regions\n",
    "<br>\n",
    "__Experimental Group__: Orders between customer and supplier in the same region"
   ]
  },
  {
   "cell_type": "markdown",
   "metadata": {},
   "source": [
    "### Data Wrangling\n",
    "Combining tables to capture Customers, Customer Orders, Order Details, Products, and Suppliers"
   ]
  },
  {
   "cell_type": "code",
   "execution_count": 98,
   "metadata": {},
   "outputs": [],
   "source": [
    "customers.columns = ['CustomerId', 'CompanyName', 'ContactName', 'ContactTitle', 'Address', 'City',\n",
    "       'Region', 'PostalCode', 'Country', 'Phone', 'Fax']\n",
    "suppliers.columns = ['SupplierId', 'CompanyName', 'ContactName', 'ContactTitle', 'Address', 'City',\n",
    "       'Region', 'PostalCode', 'Country', 'Phone', 'Fax', 'HomePage']\n",
    "suppliers.columns = ['SupplierId', 'CompanyName_Supplier', 'ContactName_Supplier', 'ContactTitle_Supplier', \n",
    "                     'Address_Supplier', 'City_Supplier', 'Region_Supplier', 'PostalCode_Supplier', \n",
    "                     'Country_Supplier', 'Phone_Supplier', 'Fax_Supplier', 'HomePage_Supplier']\n",
    "customers.columns = ['CustomerId', 'CompanyName_Customer', 'ContactName_Customer', 'ContactTitle_Customer', 'Address_Customer',\n",
    "       'City_Customer', 'Region_Customer', 'PostalCode_Customer', 'Country_Customer', 'Phone_Customer', 'Fax_Customer']"
   ]
  },
  {
   "cell_type": "code",
   "execution_count": 99,
   "metadata": {},
   "outputs": [],
   "source": [
    "employees_orders = pd.merge(employees,\n",
    "                           orders,\n",
    "                           on='EmployeeId')"
   ]
  },
  {
   "cell_type": "code",
   "execution_count": 100,
   "metadata": {},
   "outputs": [],
   "source": [
    "employees_orders_order_details = pd.merge(employees_orders,\n",
    "                                         order_details,\n",
    "                                         on='OrderId')"
   ]
  },
  {
   "cell_type": "code",
   "execution_count": 101,
   "metadata": {},
   "outputs": [],
   "source": [
    "employees_orders_order_details_products = pd.merge(employees_orders_order_details,\n",
    "                                                   products,\n",
    "                                                   on=['ProductId', 'UnitPrice'])"
   ]
  },
  {
   "cell_type": "code",
   "execution_count": 102,
   "metadata": {},
   "outputs": [],
   "source": [
    "employees_orders_order_details_products_customers = pd.merge(employees_orders_order_details_products,\n",
    "        customers,\n",
    "        on='CustomerId')"
   ]
  },
  {
   "cell_type": "code",
   "execution_count": 103,
   "metadata": {},
   "outputs": [],
   "source": [
    "employees_orders_order_details_products_customers_suppliers = pd.merge(employees_orders_order_details_products_customers,\n",
    "        suppliers,\n",
    "        on='SupplierId')"
   ]
  },
  {
   "cell_type": "markdown",
   "metadata": {},
   "source": [
    "## Regional Breakdown - Global Customers and Suppliers"
   ]
  },
  {
   "cell_type": "code",
   "execution_count": 104,
   "metadata": {},
   "outputs": [
    {
     "data": {
      "text/plain": [
       "array(['Western Europe', 'North America', 'South America', 'Scandinavia',\n",
       "       'Central America', 'British Isles', 'Northern Europe',\n",
       "       'Southern Europe', 'Eastern Europe'], dtype=object)"
      ]
     },
     "execution_count": 104,
     "metadata": {},
     "output_type": "execute_result"
    }
   ],
   "source": [
    "employees_orders_order_details_products_customers_suppliers.Region_Customer.unique()"
   ]
  },
  {
   "cell_type": "code",
   "execution_count": 105,
   "metadata": {},
   "outputs": [
    {
     "data": {
      "text/plain": [
       "Western Europe     505\n",
       "North America      312\n",
       "South America      212\n",
       "British Isles      128\n",
       "Northern Europe     98\n",
       "Southern Europe     86\n",
       "Scandinavia         50\n",
       "Central America     32\n",
       "Eastern Europe      14\n",
       "Name: Region_Customer, dtype: int64"
      ]
     },
     "execution_count": 105,
     "metadata": {},
     "output_type": "execute_result"
    }
   ],
   "source": [
    "employees_orders_order_details_products_customers_suppliers.Region_Customer.value_counts()"
   ]
  },
  {
   "cell_type": "code",
   "execution_count": 106,
   "metadata": {},
   "outputs": [
    {
     "data": {
      "text/plain": [
       "Western Europe     290\n",
       "North America      285\n",
       "Southern Europe    148\n",
       "British Isles      148\n",
       "Victoria           112\n",
       "Northern Europe    109\n",
       "Scandinavia        105\n",
       "Eastern Asia        82\n",
       "NSW                 69\n",
       "South-East Asia     54\n",
       "South America       35\n",
       "Name: Region_Supplier, dtype: int64"
      ]
     },
     "execution_count": 106,
     "metadata": {},
     "output_type": "execute_result"
    }
   ],
   "source": [
    "employees_orders_order_details_products_customers_suppliers.Region_Supplier.value_counts()"
   ]
  },
  {
   "cell_type": "code",
   "execution_count": 107,
   "metadata": {
    "scrolled": true
   },
   "outputs": [
    {
     "name": "stdout",
     "output_type": "stream",
     "text": [
      "Total Customers in Western Europe : 505\n",
      "Customer and Supplier in Western Europe : 110\n",
      "% Both from  Western Europe : 0.218\n",
      "\n",
      "\n",
      "Total Customers in North America : 312\n",
      "Customer and Supplier in North America : 61\n",
      "% Both from  North America : 0.196\n",
      "\n",
      "\n",
      "Total Customers in South America : 212\n",
      "Customer and Supplier in South America : 7\n",
      "% Both from  South America : 0.033\n",
      "\n",
      "\n",
      "Total Customers in Scandinavia : 50\n",
      "Customer and Supplier in Scandinavia : 3\n",
      "% Both from  Scandinavia : 0.06\n",
      "\n",
      "\n",
      "Total Customers in Central America : 32\n",
      "Customer and Supplier in Central America : 0\n",
      "% Both from  Central America : 0.0\n",
      "\n",
      "\n",
      "Total Customers in British Isles : 128\n",
      "Customer and Supplier in British Isles : 11\n",
      "% Both from  British Isles : 0.086\n",
      "\n",
      "\n",
      "Total Customers in Northern Europe : 98\n",
      "Customer and Supplier in Northern Europe : 10\n",
      "% Both from  Northern Europe : 0.102\n",
      "\n",
      "\n",
      "Total Customers in Southern Europe : 86\n",
      "Customer and Supplier in Southern Europe : 6\n",
      "% Both from  Southern Europe : 0.07\n",
      "\n",
      "\n",
      "Total Customers in Eastern Europe : 14\n",
      "Customer and Supplier in Eastern Europe : 0\n",
      "% Both from  Eastern Europe : 0.0\n",
      "\n",
      "\n",
      "Total orders where the customer region matches the supplier:  208\n"
     ]
    }
   ],
   "source": [
    "counter=0\n",
    "for region in employees_orders_order_details_products_customers_suppliers.Region_Customer.unique():\n",
    "    total_region_customers = len(employees_orders_order_details_products_customers_suppliers[\n",
    "        employees_orders_order_details_products_customers_suppliers.Region_Customer == region])\n",
    "    total_region_cust_suppliers = len(employees_orders_order_details_products_customers_suppliers[\n",
    "        (employees_orders_order_details_products_customers_suppliers.Region_Customer == region) &\n",
    "        (employees_orders_order_details_products_customers_suppliers.Region_Supplier == region)])\n",
    "    counter = counter + total_region_cust_suppliers\n",
    "    print('Total Customers in', region, ':', total_region_customers)\n",
    "    print('Customer and Supplier in', region, ':', total_region_cust_suppliers,)\n",
    "    print('% Both from ', region, ':', round(total_region_cust_suppliers/total_region_customers, 3))\n",
    "    print('\\n')\n",
    "print('Total orders where the customer region matches the supplier: ', counter)"
   ]
  },
  {
   "cell_type": "code",
   "execution_count": 108,
   "metadata": {},
   "outputs": [
    {
     "name": "stdout",
     "output_type": "stream",
     "text": [
      "Western Europe $ 133.64\n",
      "North America $ 129.83\n",
      "South America $ 52.17\n",
      "Scandinavia $ 44.96\n",
      "Central America $ 50.41\n",
      "British Isles $ 94.87\n",
      "Northern Europe $ 123.54\n",
      "Southern Europe $ 47.44\n",
      "Eastern Europe $ 32.4\n"
     ]
    }
   ],
   "source": [
    "for region in employees_orders_order_details_products_customers_suppliers.Region_Customer.unique():\n",
    "    print(region, '$', round(employees_orders_order_details_products_customers_suppliers[\n",
    "        employees_orders_order_details_products_customers_suppliers.Region_Customer == region].Freight.mean(), 2))"
   ]
  },
  {
   "cell_type": "code",
   "execution_count": 109,
   "metadata": {},
   "outputs": [
    {
     "name": "stdout",
     "output_type": "stream",
     "text": [
      "Western Europe $ 165.26\n",
      "North America $ 107.96\n",
      "South America $ 43.13\n",
      "Scandinavia $ 17.96\n",
      "Central America $ nan\n",
      "British Isles $ 70.91\n",
      "Northern Europe $ 143.03\n",
      "Southern Europe $ 57.72\n",
      "Eastern Europe $ nan\n"
     ]
    }
   ],
   "source": [
    "for region in employees_orders_order_details_products_customers_suppliers.Region_Customer.unique():\n",
    "    print(region, '$', round(employees_orders_order_details_products_customers_suppliers[\n",
    "        (employees_orders_order_details_products_customers_suppliers.Region_Customer == region) &\n",
    "        (employees_orders_order_details_products_customers_suppliers.Region_Supplier == region)].Freight.mean(), 2))"
   ]
  },
  {
   "cell_type": "code",
   "execution_count": 110,
   "metadata": {},
   "outputs": [],
   "source": [
    "same_region_df_1 = employees_orders_order_details_products_customers_suppliers.copy(deep=True)"
   ]
  },
  {
   "cell_type": "code",
   "execution_count": 111,
   "metadata": {},
   "outputs": [
    {
     "data": {
      "text/plain": [
       "array(['Western Europe', 'North America', 'South America', 'Scandinavia',\n",
       "       'Central America', 'British Isles', 'Northern Europe',\n",
       "       'Southern Europe', 'Eastern Europe'], dtype=object)"
      ]
     },
     "execution_count": 111,
     "metadata": {},
     "output_type": "execute_result"
    }
   ],
   "source": [
    "same_region_df_1.Region_Customer.unique()"
   ]
  },
  {
   "cell_type": "code",
   "execution_count": 112,
   "metadata": {},
   "outputs": [],
   "source": [
    "region_array = ['Western Europe', 'North America', 'South America', 'Scandinavia',\n",
    "       'Central America', 'British Isles', 'Northern Europe',\n",
    "       'Southern Europe', 'Eastern Europe']\n",
    "diff_region_array = [133.64, 129.83, 52.17, 44.96, 50.41, 94.87, 123.54, 47.44, 32.4]\n",
    "same_region_array = [165.26, 107.96, 43.13, 17.96, 0, 70.91, 143.03, 57.72, 0]"
   ]
  },
  {
   "cell_type": "code",
   "execution_count": 113,
   "metadata": {},
   "outputs": [],
   "source": [
    "reg_dictionary_2 = dict(zip(region_array, diff_region_array))\n",
    "reg_dictionary = dict(zip(region_array, same_region_array))"
   ]
  },
  {
   "cell_type": "code",
   "execution_count": 114,
   "metadata": {},
   "outputs": [],
   "source": [
    "df_diff_region_freight = pd.DataFrame.from_dict(reg_dictionary_2, orient='index').reset_index()\n",
    "df_diff_region_freight.columns = ['Region', 'Different_Region_Freight']"
   ]
  },
  {
   "cell_type": "code",
   "execution_count": 115,
   "metadata": {},
   "outputs": [],
   "source": [
    "df_same_region_freight = pd.DataFrame.from_dict(reg_dictionary, orient='index').reset_index()\n",
    "df_same_region_freight.columns = ['Region', 'Same_Region_Freight']"
   ]
  },
  {
   "cell_type": "code",
   "execution_count": 116,
   "metadata": {},
   "outputs": [],
   "source": [
    "combined_diff_and_same_region_freight = pd.merge(df_diff_region_freight, df_same_region_freight, on='Region')"
   ]
  },
  {
   "cell_type": "markdown",
   "metadata": {},
   "source": [
    "### Visualizing the Data - Freight Costs within and between global regions"
   ]
  },
  {
   "cell_type": "code",
   "execution_count": 117,
   "metadata": {},
   "outputs": [
    {
     "data": {
      "text/plain": [
       "<Figure size 720x432 with 0 Axes>"
      ]
     },
     "execution_count": 117,
     "metadata": {},
     "output_type": "execute_result"
    },
    {
     "data": {
      "text/plain": [
       "Text(0.5, 1.0, 'Global Shipping to Different Regions: Freight Costs')"
      ]
     },
     "execution_count": 117,
     "metadata": {},
     "output_type": "execute_result"
    },
    {
     "data": {
      "text/plain": [
       "Text(0.5, 0, 'Region')"
      ]
     },
     "execution_count": 117,
     "metadata": {},
     "output_type": "execute_result"
    },
    {
     "data": {
      "text/plain": [
       "Text(0, 0.5, 'Freight Cost ($)')"
      ]
     },
     "execution_count": 117,
     "metadata": {},
     "output_type": "execute_result"
    },
    {
     "data": {
      "text/plain": [
       "[Text(0, 0, 'Western Europe'),\n",
       " Text(0, 0, 'North America'),\n",
       " Text(0, 0, 'South America'),\n",
       " Text(0, 0, 'Scandinavia'),\n",
       " Text(0, 0, 'Central America'),\n",
       " Text(0, 0, 'British Isles'),\n",
       " Text(0, 0, 'Northern Europe'),\n",
       " Text(0, 0, 'Southern Europe'),\n",
       " Text(0, 0, 'Eastern Europe')]"
      ]
     },
     "execution_count": 117,
     "metadata": {},
     "output_type": "execute_result"
    },
    {
     "data": {
      "image/png": "[encoded data removed]",
      "text/plain": [
       "<Figure size 720x432 with 1 Axes>"
      ]
     },
     "metadata": {
      "needs_background": "light"
     },
     "output_type": "display_data"
    }
   ],
   "source": [
    "plt.figure(figsize=(10,6))\n",
    "plot_diff_region = sns.barplot(combined_diff_and_same_region_freight.Region, combined_diff_and_same_region_freight.Different_Region_Freight)\n",
    "plt.title('Global Shipping to Different Regions: Freight Costs', fontsize=18, fontweight='bold')\n",
    "plt.xlabel('Region', fontsize=12, fontweight='bold')\n",
    "plt.ylabel('Freight Cost ($)', fontsize=12, fontweight='bold')\n",
    "plot_diff_region.set_xticklabels(plot_diff_region.get_xticklabels(), rotation=70)"
   ]
  },
  {
   "cell_type": "code",
   "execution_count": 118,
   "metadata": {},
   "outputs": [
    {
     "data": {
      "text/plain": [
       "<Figure size 720x432 with 0 Axes>"
      ]
     },
     "execution_count": 118,
     "metadata": {},
     "output_type": "execute_result"
    },
    {
     "data": {
      "text/plain": [
       "Text(0.5, 1.0, 'Shipping Within Regions: Freight Costs')"
      ]
     },
     "execution_count": 118,
     "metadata": {},
     "output_type": "execute_result"
    },
    {
     "data": {
      "text/plain": [
       "Text(0.5, 0, 'Region')"
      ]
     },
     "execution_count": 118,
     "metadata": {},
     "output_type": "execute_result"
    },
    {
     "data": {
      "text/plain": [
       "Text(0, 0.5, 'Freight Cost ($)')"
      ]
     },
     "execution_count": 118,
     "metadata": {},
     "output_type": "execute_result"
    },
    {
     "data": {
      "text/plain": [
       "[Text(0, 0, 'Western Europe'),\n",
       " Text(0, 0, 'North America'),\n",
       " Text(0, 0, 'South America'),\n",
       " Text(0, 0, 'Scandinavia'),\n",
       " Text(0, 0, 'Central America'),\n",
       " Text(0, 0, 'British Isles'),\n",
       " Text(0, 0, 'Northern Europe'),\n",
       " Text(0, 0, 'Southern Europe'),\n",
       " Text(0, 0, 'Eastern Europe')]"
      ]
     },
     "execution_count": 118,
     "metadata": {},
     "output_type": "execute_result"
    },
    {
     "data": {
      "image/png": "[encoded data removed]",
      "text/plain": [
       "<Figure size 720x432 with 1 Axes>"
      ]
     },
     "metadata": {
      "needs_background": "light"
     },
     "output_type": "display_data"
    }
   ],
   "source": [
    "plt.figure(figsize=(10,6))\n",
    "plot_same_region = sns.barplot(combined_diff_and_same_region_freight.Region, \n",
    "                               combined_diff_and_same_region_freight.Same_Region_Freight)\n",
    "plt.title('Shipping Within Regions: Freight Costs', fontsize=18, fontweight='bold')\n",
    "plt.xlabel('Region', fontsize=12, fontweight='bold')\n",
    "plt.ylabel('Freight Cost ($)', fontsize=12, fontweight='bold')\n",
    "plot_same_region.set_xticklabels(plot_same_region.get_xticklabels(), rotation=70)"
   ]
  },
  {
   "cell_type": "code",
   "execution_count": 119,
   "metadata": {},
   "outputs": [],
   "source": [
    "same_region_df_1['Same_Region'] = np.where(same_region_df_1['Region_Customer'] == \n",
    "                                           same_region_df_1['Region_Supplier'], 1, 0)"
   ]
  },
  {
   "cell_type": "code",
   "execution_count": 120,
   "metadata": {},
   "outputs": [
    {
     "data": {
      "text/plain": [
       "0    1229\n",
       "1     208\n",
       "Name: Same_Region, dtype: int64"
      ]
     },
     "execution_count": 120,
     "metadata": {},
     "output_type": "execute_result"
    }
   ],
   "source": [
    "same_region_df_1.Same_Region.value_counts()"
   ]
  },
  {
   "cell_type": "markdown",
   "metadata": {},
   "source": [
    "__Analysis__\n",
    "<br>We see a significant difference in sample size between the control group (orders where the customer and supplier reside in different regions) and the experimental group (customers and suppliers hail from the same region). We will need to resample to bring the values closer to one another in order for our comparison to have any merit."
   ]
  },
  {
   "cell_type": "code",
   "execution_count": 121,
   "metadata": {},
   "outputs": [],
   "source": [
    "diff_region_control_group = same_region_df_1[same_region_df_1.Same_Region == 0]\n",
    "same_region_experimental_group = same_region_df_1[same_region_df_1.Same_Region == 1]\n",
    "diff_region_control_group_freight = diff_region_control_group.Freight\n",
    "same_region_experimental_group_freight = same_region_experimental_group.Freight"
   ]
  },
  {
   "cell_type": "code",
   "execution_count": 123,
   "metadata": {},
   "outputs": [
    {
     "data": {
      "text/plain": [
       "<Figure size 720x432 with 0 Axes>"
      ]
     },
     "execution_count": 123,
     "metadata": {},
     "output_type": "execute_result"
    },
    {
     "data": {
      "text/plain": [
       "<matplotlib.axes._subplots.AxesSubplot at 0x1c1ea37dd8>"
      ]
     },
     "execution_count": 123,
     "metadata": {},
     "output_type": "execute_result"
    },
    {
     "data": {
      "text/plain": [
       "<matplotlib.axes._subplots.AxesSubplot at 0x1c1ea37dd8>"
      ]
     },
     "execution_count": 123,
     "metadata": {},
     "output_type": "execute_result"
    },
    {
     "data": {
      "text/plain": [
       "Text(0.5, 1.0, 'Supplier and Customer Region Freight Costs')"
      ]
     },
     "execution_count": 123,
     "metadata": {},
     "output_type": "execute_result"
    },
    {
     "data": {
      "text/plain": [
       "Text(0.5, 0, 'Freight ($)')"
      ]
     },
     "execution_count": 123,
     "metadata": {},
     "output_type": "execute_result"
    },
    {
     "data": {
      "text/plain": [
       "<matplotlib.legend.Legend at 0x1c1ecc63c8>"
      ]
     },
     "execution_count": 123,
     "metadata": {},
     "output_type": "execute_result"
    },
    {
     "data": {
      "image/png": "[encoded data removed]",
      "text/plain": [
       "<Figure size 720x432 with 1 Axes>"
      ]
     },
     "metadata": {
      "needs_background": "light"
     },
     "output_type": "display_data"
    }
   ],
   "source": [
    "plt.figure(figsize=(10,6))\n",
    "sns.distplot(diff_region_control_group_freight, label='Control Group - Different Regions')\n",
    "sns.distplot(same_region_experimental_group_freight, label='Experimental Group - Same Region')\n",
    "plt.title('Supplier and Customer Region Freight Costs', fontsize=18, fontweight='bold')\n",
    "plt.xlabel('Freight ($)', fontsize=12, fontweight='bold')\n",
    "plt.legend(fontsize=12)"
   ]
  },
  {
   "cell_type": "markdown",
   "metadata": {},
   "source": [
    "__Distribution Analysis__\n",
    "<br>The above distribution plot shows heavy right skewedness for both the control and experimental group. We will likely need to explore transformation or resampling in order to fullfill the normality assumption to move forward."
   ]
  },
  {
   "cell_type": "markdown",
   "metadata": {},
   "source": [
    "### Normality Test - Two-tailed - Statsmodels Normal Test"
   ]
  },
  {
   "cell_type": "code",
   "execution_count": 124,
   "metadata": {},
   "outputs": [
    {
     "name": "stdout",
     "output_type": "stream",
     "text": [
      "Normality of Control Group NormaltestResult(statistic=782.3457933967768, pvalue=1.3054778085715278e-170)\n",
      "Normality of Experimental Group NormaltestResult(statistic=134.5411215999535, pvalue=6.092094760649916e-30)\n"
     ]
    }
   ],
   "source": [
    "print('Normality of Control Group', stats.normaltest(diff_region_control_group_freight))\n",
    "print('Normality of Experimental Group', stats.normaltest(same_region_experimental_group_freight))"
   ]
  },
  {
   "cell_type": "markdown",
   "metadata": {},
   "source": [
    "The results of the normalality tests above fall in line with the distribution plot above. Very small p-values provide additional evidence that the distributions are not normal, thus we cannot fulfill that assumption to move forward."
   ]
  },
  {
   "cell_type": "markdown",
   "metadata": {},
   "source": [
    "### Effect Size"
   ]
  },
  {
   "cell_type": "code",
   "execution_count": 125,
   "metadata": {},
   "outputs": [
    {
     "name": "stdout",
     "output_type": "stream",
     "text": [
      "Cohen's d: 0.012351686825689384\n"
     ]
    }
   ],
   "source": [
    "print(\"Cohen's d:\", Cohens_d(np.array(same_region_experimental_group_freight), \n",
    "                             np.array(diff_region_control_group_freight)))"
   ]
  },
  {
   "cell_type": "markdown",
   "metadata": {},
   "source": [
    "There is a very small Cohen's d value for effect size between the control and experimental groups."
   ]
  },
  {
   "cell_type": "markdown",
   "metadata": {},
   "source": [
    "#### Create a new Sample Distribution"
   ]
  },
  {
   "cell_type": "code",
   "execution_count": 128,
   "metadata": {},
   "outputs": [],
   "source": [
    "control_sample = create_sample_distribution(diff_region_control_group_freight)\n",
    "experimental_sample = create_sample_distribution(same_region_experimental_group_freight)"
   ]
  },
  {
   "cell_type": "markdown",
   "metadata": {},
   "source": [
    "__Sample Variance__"
   ]
  },
  {
   "cell_type": "code",
   "execution_count": 129,
   "metadata": {},
   "outputs": [
    {
     "name": "stdout",
     "output_type": "stream",
     "text": [
      "Control Group Variance: 37.158071247266676\n",
      "Experimental Group Variance: 62.94893448083788\n",
      "Difference 25.7908632335712\n"
     ]
    }
   ],
   "source": [
    "print('Control Group Variance:', np.array(control_sample).var())\n",
    "print('Experimental Group Variance:', np.array(experimental_sample).var())\n",
    "print('Difference', abs(np.array(control_sample).var() - np.array(experimental_sample).var()))"
   ]
  },
  {
   "cell_type": "code",
   "execution_count": 130,
   "metadata": {},
   "outputs": [
    {
     "data": {
      "text/plain": [
       "<Figure size 720x432 with 0 Axes>"
      ]
     },
     "execution_count": 130,
     "metadata": {},
     "output_type": "execute_result"
    },
    {
     "data": {
      "text/plain": [
       "<matplotlib.axes._subplots.AxesSubplot at 0x1c1e15c320>"
      ]
     },
     "execution_count": 130,
     "metadata": {},
     "output_type": "execute_result"
    },
    {
     "data": {
      "text/plain": [
       "<matplotlib.axes._subplots.AxesSubplot at 0x1c1e15c320>"
      ]
     },
     "execution_count": 130,
     "metadata": {},
     "output_type": "execute_result"
    },
    {
     "data": {
      "text/plain": [
       "Text(0.5, 1.0, 'Freight Cost: Supplier and Customer Regions')"
      ]
     },
     "execution_count": 130,
     "metadata": {},
     "output_type": "execute_result"
    },
    {
     "data": {
      "text/plain": [
       "Text(0.5, 0, 'Freight ($)')"
      ]
     },
     "execution_count": 130,
     "metadata": {},
     "output_type": "execute_result"
    },
    {
     "data": {
      "text/plain": [
       "<matplotlib.legend.Legend at 0x1c1ed79518>"
      ]
     },
     "execution_count": 130,
     "metadata": {},
     "output_type": "execute_result"
    },
    {
     "data": {
      "image/png": "[encoded data removed]",
      "text/plain": [
       "<Figure size 720x432 with 1 Axes>"
      ]
     },
     "metadata": {
      "needs_background": "light"
     },
     "output_type": "display_data"
    }
   ],
   "source": [
    "plt.figure(figsize=(10,6))\n",
    "sns.distplot(control_sample, label='Control Sample')\n",
    "sns.distplot(experimental_sample, label='Experimental Sample')\n",
    "plt.title('Freight Cost: Supplier and Customer Regions', fontsize=16, fontweight='bold')\n",
    "plt.xlabel('Freight ($)', fontsize=12, fontweight='bold')\n",
    "plt.legend(fontsize=14)"
   ]
  },
  {
   "cell_type": "markdown",
   "metadata": {},
   "source": [
    "__Distribution Analysis__\n",
    "We now see distributions for the control and experimental samples resembling normal distributions with now significant variance between the two groups."
   ]
  },
  {
   "cell_type": "code",
   "execution_count": 263,
   "metadata": {},
   "outputs": [
    {
     "data": {
      "text/plain": [
       "Ttest_indResult(statistic=-101.27279082345785, pvalue=0.0)"
      ]
     },
     "execution_count": 263,
     "metadata": {},
     "output_type": "execute_result"
    }
   ],
   "source": [
    "stats.ttest_ind(control_sample, experimental_sample)"
   ]
  },
  {
   "cell_type": "markdown",
   "metadata": {},
   "source": [
    "__Conclusion__"
   ]
  },
  {
   "cell_type": "markdown",
   "metadata": {},
   "source": [
    "Based on the above statistical t-test, we see a p-value within the alpha threshold of 0.05. Thus we can reject the null hypothesis and accept the alternative hypothesis, freight costs will differ between orders that occur within the same region (customer and supplier) vs differing global regions. I actually found that prices are largely higher for orders within the same region, which is interesting because it generally means that the product travels a shorter distance. But as I stated before, there are number of other conditions that will impact freight costs for shipping products worldwide that these results do not yet capture."
   ]
  },
  {
   "cell_type": "markdown",
   "metadata": {},
   "source": [
    "---------------------------------------------------------------------------------------------------------------------"
   ]
  },
  {
   "cell_type": "markdown",
   "metadata": {},
   "source": [
    "-----------"
   ]
  }
 ],
 "metadata": {
  "kernelspec": {
   "display_name": "learn-env",
   "language": "python",
   "name": "learn-env"
  },
  "language_info": {
   "codemirror_mode": {
    "name": "ipython",
    "version": 3
   },
   "file_extension": ".py",
   "mimetype": "text/x-python",
   "name": "python",
   "nbconvert_exporter": "python",
   "pygments_lexer": "ipython3",
   "version": "3.6.6"
  }
 },
 "nbformat": 4,
 "nbformat_minor": 2
}
